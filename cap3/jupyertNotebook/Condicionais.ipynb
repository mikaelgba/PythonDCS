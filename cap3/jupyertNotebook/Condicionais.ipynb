{
 "cells": [
  {
   "cell_type": "code",
   "execution_count": null,
   "metadata": {},
   "outputs": [],
   "source": [
    "if( 3 < 5):\n",
    "    print(\"Saint Seiya!!\")"
   ]
  },
  {
   "cell_type": "code",
   "execution_count": null,
   "metadata": {},
   "outputs": [],
   "source": [
    "if( 10 == 5):\n",
    "    print(\"true\")\n",
    "else:\n",
    "    print(\"false\")"
   ]
  },
  {
   "cell_type": "code",
   "execution_count": null,
   "metadata": {},
   "outputs": [],
   "source": [
    "if True:\n",
    "    print(\"True\")"
   ]
  },
  {
   "cell_type": "code",
   "execution_count": null,
   "metadata": {},
   "outputs": [],
   "source": [
    "#Condicionis Aninhadas\n",
    "idade = 5\n",
    "nome = \"Yoda\"\n",
    "if(idade >= 5):\n",
    "    if(nome == \"Yoda\"):\n",
    "        print(\"Iti Malia, Baby Yoda!!\")\n",
    "else:\n",
    "    print(\"Você não é o Baby Yoda\")"
   ]
  },
  {
   "cell_type": "code",
   "execution_count": null,
   "metadata": {},
   "outputs": [],
   "source": [
    "#Condicional logico AND\n",
    "idade = 5\n",
    "nome = \"Yoda\"\n",
    "if(idade >= 5) and (nome == \"Yoda\"):\n",
    "    print(\"Iti Malia, Baby Yoda!!\")\n",
    "else:\n",
    "    print(\"Você não é o Baby Yoda\")"
   ]
  },
  {
   "cell_type": "code",
   "execution_count": null,
   "metadata": {},
   "outputs": [],
   "source": [
    "#Condicional logico OR\n",
    "idade = 4\n",
    "if(idade >= 5) or (nome == \"Yoda\"):\n",
    "    print(\"Hum, talvez você não seja o Iti Malia, Baby Yoda!!\")"
   ]
  },
  {
   "cell_type": "code",
   "execution_count": null,
   "metadata": {},
   "outputs": [],
   "source": [
    "#Condicional logico NOT\n",
    "nome2 = \"Loda\"\n",
    "if not (nome2 == \"Yoda\"):\n",
    "    print(\"Você não é o Baby Yoda\")\n",
    "else:\n",
    "    print(\"Iti Malia, Baby Yoda!!\")"
   ]
  },
  {
   "cell_type": "code",
   "execution_count": null,
   "metadata": {},
   "outputs": [],
   "source": [
    "#Condicinal Elif\n",
    "cavaleiro = \"Seiya\"\n",
    "if(cavaleiro == \"Seiya\"):\n",
    "    print(cavaleiro, \"O motador de Deuses\")\n",
    "elif(cavaleiro == \"Hades\"):\n",
    "    print(cavaleiro, \"Geral ai morrer!\")\n",
    "else:\n",
    "    print(\"Quem eis você?\")"
   ]
  },
  {
   "cell_type": "code",
   "execution_count": null,
   "metadata": {},
   "outputs": [],
   "source": [
    "filme_premiado = \"Coringa\"\n",
    "oscar = 4\n",
    "\n",
    "if(filme_premiado == \"Coringa\") and (oscar == 4):\n",
    "    print(filme_premiado,\"ganhou\",oscar,\"Oscars.\")\n",
    "else:\n",
    "    print(\"Irlandês ganhou alguns também.\")"
   ]
  },
  {
   "cell_type": "code",
   "execution_count": null,
   "metadata": {},
   "outputs": [],
   "source": [
    "#Usando mais de uma condicição no If\n",
    "filme_premiado2 = input(\"Filme? \")\n",
    "oscar2 = int(input(\"Quantidade de Oscars? \"))\n",
    "\n",
    "if(filme_premiado2 == \"Coringa\") and (oscar2 == 4):\n",
    "    print(filme_premiado2,\"ganhou\",oscar2,\"Oscars.\")\n",
    "else:\n",
    "    print(\"Irlandês ganhou\",oscar2)"
   ]
  },
  {
   "cell_type": "code",
   "execution_count": null,
   "metadata": {},
   "outputs": [],
   "source": [
    "#Usando três condicições no If\n",
    "oscar_melhor_ator = input(\"Melhor ator? \")\n",
    "filme_premiado2 = input(\"Filme? \")\n",
    "oscar2 = int(input(\"Quantidade de Oscars? \"))\n",
    "\n",
    "if(filme_premiado2 == \"Coringa\") and (oscar2 == 4) and (oscar_melhor_ator == \"Joaquin Phoenix\"):\n",
    "    print(filme_premiado2,\"ganhou\",oscar2,\"Oscars, entre eles o de melhor ator para\",oscar_melhor_ator)\n",
    "else:\n",
    "    print(\"Irlandês ganhou\",oscar2)"
   ]
  },
  {
   "cell_type": "code",
   "execution_count": null,
   "metadata": {},
   "outputs": [],
   "source": [
    "valor = float(input(\"Valor? \"))\n",
    "quant = int(input(\"Quantidade? \"))\n",
    "desconto = input(\"Há desconto? \")\n",
    "\n",
    "total = valor * quant\n",
    "\n",
    "if(total >= 500) and (desconto == \"sim\"):\n",
    "    total -= (total/25)\n",
    "    print(\"Total = %r\"%(total))\n",
    "else:\n",
    "    print(\"Total = %r\"%(total))\n",
    "    \n",
    "    "
   ]
  },
  {
   "cell_type": "code",
   "execution_count": null,
   "metadata": {},
   "outputs": [],
   "source": []
  }
 ],
 "metadata": {
  "kernelspec": {
   "display_name": "Python 3",
   "language": "python",
   "name": "python3"
  },
  "language_info": {
   "codemirror_mode": {
    "name": "ipython",
    "version": 3
   },
   "file_extension": ".py",
   "mimetype": "text/x-python",
   "name": "python",
   "nbconvert_exporter": "python",
   "pygments_lexer": "ipython3",
   "version": "3.7.2"
  }
 },
 "nbformat": 4,
 "nbformat_minor": 2
}
