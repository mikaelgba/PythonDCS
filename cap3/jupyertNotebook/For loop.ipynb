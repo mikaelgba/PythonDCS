{
 "cells": [
  {
   "cell_type": "code",
   "execution_count": null,
   "metadata": {},
   "outputs": [],
   "source": [
    "tupla = (\"a\",\"b\",\"c\")\n",
    "for i in tupla:\n",
    "    print(i)"
   ]
  },
  {
   "cell_type": "code",
   "execution_count": null,
   "metadata": {},
   "outputs": [],
   "source": [
    "lista_letras = [\"a\",\"b\",\"c\"]\n",
    "for i in lista_letras:\n",
    "    print(i)"
   ]
  },
  {
   "cell_type": "code",
   "execution_count": null,
   "metadata": {},
   "outputs": [],
   "source": [
    "for i in lista_letras:\n",
    "    if( i == \"c\"):\n",
    "        print(\"Há o valor 'c' na lista\")"
   ]
  },
  {
   "cell_type": "code",
   "execution_count": null,
   "metadata": {},
   "outputs": [],
   "source": [
    "#Imprimir entre um intervalo \n",
    "for contador in range(0,5):\n",
    "    print(contador)"
   ]
  },
  {
   "cell_type": "code",
   "execution_count": null,
   "metadata": {},
   "outputs": [],
   "source": [
    "#Imprimir entre um intervalo de 2 em 2 usando a função RANGE\n",
    "for contador in range(0,50,2):\n",
    "    print(contador)"
   ]
  },
  {
   "cell_type": "code",
   "execution_count": null,
   "metadata": {},
   "outputs": [],
   "source": [
    "#Imprimir os elementos pares da lista\n",
    "lista = [1,2,3,4,5,6,7,8,9,10]\n",
    "for i in lista:\n",
    "    if(i % 2 == 0 ):\n",
    "        print(i)"
   ]
  },
  {
   "cell_type": "code",
   "execution_count": null,
   "metadata": {},
   "outputs": [],
   "source": [
    "a = \"Saint Seiya\"\n",
    "for i in a:\n",
    "    print(i)"
   ]
  },
  {
   "cell_type": "code",
   "execution_count": null,
   "metadata": {},
   "outputs": [],
   "source": [
    "#For loop aninhado\n",
    "for i in range(0,10):\n",
    "    for j in range(0,10):\n",
    "        print( i + 1, \"X\", j + 1, \"=\", (i + 1) * (j + 1))"
   ]
  },
  {
   "cell_type": "code",
   "execution_count": null,
   "metadata": {},
   "outputs": [],
   "source": [
    "lista2 = [10,20,30,40,50,60,70]\n",
    "soma = 0\n",
    "for i in lista2:\n",
    "    soma += i\n",
    "print(soma)"
   ]
  },
  {
   "cell_type": "code",
   "execution_count": null,
   "metadata": {},
   "outputs": [],
   "source": [
    "#Imprimir as sublistas separadas\n",
    "lista_aux = [[\"a\",\"b\",\"c\"],[\"d\",\"e\",\"f\"],[\"h\",\"i\",\"j\"]]\n",
    "for i in lista_aux:\n",
    "    print(i)"
   ]
  },
  {
   "cell_type": "code",
   "execution_count": null,
   "metadata": {},
   "outputs": [],
   "source": [
    "#Imprimir os elementos das sublistas em sequência\n",
    "for i in lista_aux:\n",
    "    for j in i:\n",
    "        print(j)"
   ]
  },
  {
   "cell_type": "code",
   "execution_count": null,
   "metadata": {},
   "outputs": [],
   "source": [
    "lista_aux = [[\"a\",\"b\",\"c\"],[\"d\",\"e\",\"f\"],[\"h\",\"i\",\"j\"]]\n",
    "quant_colunas = 0 #ou também, poderia ser quant_colunas = lista_aux[0]\n",
    "for i in lista_aux:\n",
    "    quant_colunas += 1\n",
    "print(quant_colunas)"
   ]
  },
  {
   "cell_type": "code",
   "execution_count": null,
   "metadata": {},
   "outputs": [],
   "source": [
    "#imprimir os valores do Dicionario\n",
    "dicio = {1:\"Python\",2:\"Java\",3:\"C#\",4:\"Ruby\"}\n",
    "for i in dicio.values():\n",
    "    print(i)"
   ]
  },
  {
   "cell_type": "code",
   "execution_count": null,
   "metadata": {},
   "outputs": [],
   "source": [
    "#imprimir as chaves do Dicionario\n",
    "for i in dicio.keys():\n",
    "    print(i)"
   ]
  },
  {
   "cell_type": "code",
   "execution_count": null,
   "metadata": {},
   "outputs": [],
   "source": [
    "#imprimir as chaves e os elementos do Dicionario\n",
    "for i,j in dicio.items():\n",
    "    print(i,j)"
   ]
  },
  {
   "cell_type": "code",
   "execution_count": null,
   "metadata": {},
   "outputs": [],
   "source": [
    "#Função RANGE - for in in range(x,y,z) \n",
    "#X: é o valor inicial\n",
    "#Y: o valor maximo/final\n",
    "#Z: o intervalo/salto\n",
    "for i in range(0,10,2):\n",
    "    print(i)"
   ]
  },
  {
   "cell_type": "code",
   "execution_count": null,
   "metadata": {},
   "outputs": [],
   "source": [
    "for i in range(0,-10,-2):\n",
    "    print(i)"
   ]
  },
  {
   "cell_type": "code",
   "execution_count": null,
   "metadata": {},
   "outputs": [],
   "source": [
    "lista_aux2 = [[1,2,3],[4,5,6],[7,8,9]]\n",
    "for i in range(0,len(lista_aux2)):\n",
    "    print(lista_aux2[i])"
   ]
  },
  {
   "cell_type": "code",
   "execution_count": null,
   "metadata": {},
   "outputs": [],
   "source": [
    "#Tudo em Python é um objeto\n",
    "type(range(0,3))"
   ]
  },
  {
   "cell_type": "code",
   "execution_count": null,
   "metadata": {},
   "outputs": [],
   "source": []
  }
 ],
 "metadata": {
  "kernelspec": {
   "display_name": "Python 3",
   "language": "python",
   "name": "python3"
  },
  "language_info": {
   "codemirror_mode": {
    "name": "ipython",
    "version": 3
   },
   "file_extension": ".py",
   "mimetype": "text/x-python",
   "name": "python",
   "nbconvert_exporter": "python",
   "pygments_lexer": "ipython3",
   "version": "3.7.2"
  }
 },
 "nbformat": 4,
 "nbformat_minor": 2
}
