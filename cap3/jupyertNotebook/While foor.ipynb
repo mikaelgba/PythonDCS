{
 "cells": [
  {
   "cell_type": "code",
   "execution_count": null,
   "metadata": {},
   "outputs": [],
   "source": [
    "contador = 0\n",
    "while (contador < 10):\n",
    "    contador += 1\n",
    "print(contador)"
   ]
  },
  {
   "cell_type": "code",
   "execution_count": null,
   "metadata": {},
   "outputs": [],
   "source": [
    "#While loop Aninhado\n",
    "contador2 = 0\n",
    "while(contador2 < 10):\n",
    "    contador3 = 0\n",
    "    while(contador3 < 10):\n",
    "        print(contador2 + 1, \"X\", contador2 + 1, \"=\", (contador2 + 1) * (contador2 + 1))\n",
    "        contador3 += 1\n",
    "    contador2 += 1"
   ]
  },
  {
   "cell_type": "code",
   "execution_count": null,
   "metadata": {},
   "outputs": [],
   "source": [
    "#PASS, BREAK E CONTINUE\n",
    "#PASS: deixa continuando o loop\n",
    "#BREAK: interrompe o loop\n",
    "#CONTINUE: pula uma interação\n",
    "contador4 = 0\n",
    "while(contador4 < 10):\n",
    "    if(contador4 == 6):\n",
    "        break\n",
    "    else:\n",
    "        pass\n",
    "    print(contador4)\n",
    "    contador4 += 1"
   ]
  },
  {
   "cell_type": "code",
   "execution_count": null,
   "metadata": {},
   "outputs": [],
   "source": [
    "contador5 = \"Programador\"\n",
    "i = 0\n",
    "while(i < len(contador5)):\n",
    "    if(contador5[i] == \"m\"):\n",
    "        continue\n",
    "    print(contador5[i])\n",
    "    i += 1"
   ]
  }
 ],
 "metadata": {
  "kernelspec": {
   "display_name": "Python 3",
   "language": "python",
   "name": "python3"
  },
  "language_info": {
   "codemirror_mode": {
    "name": "ipython",
    "version": 3
   },
   "file_extension": ".py",
   "mimetype": "text/x-python",
   "name": "python",
   "nbconvert_exporter": "python",
   "pygments_lexer": "ipython3",
   "version": "3.7.2"
  }
 },
 "nbformat": 4,
 "nbformat_minor": 2
}
