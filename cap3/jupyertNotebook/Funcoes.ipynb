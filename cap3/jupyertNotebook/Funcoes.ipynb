{
 "cells": [
  {
   "cell_type": "code",
   "execution_count": null,
   "metadata": {},
   "outputs": [],
   "source": [
    "#Criar Funções\n",
    "#Função sem paramentro de entrada\n",
    "def printAux():\n",
    "    print(\"Look Alive, Sunshine\")\n",
    "print_aux()"
   ]
  },
  {
   "cell_type": "code",
   "execution_count": null,
   "metadata": {},
   "outputs": [],
   "source": [
    "#Função com paramentro de entrada\n",
    "def printAux2(entrada):\n",
    "    print(\"Look Alive, Sunshine -\", entrada)\n",
    "print_aux2(\"My Chemical Romance\")"
   ]
  },
  {
   "cell_type": "code",
   "execution_count": null,
   "metadata": {},
   "outputs": [],
   "source": [
    "def multiplicacao(valor):\n",
    "    for i in range(10):\n",
    "        print(valor, \"X\", i + 1, \"=\",valor * i + 1)\n",
    "multiplicacao(5)      "
   ]
  },
  {
   "cell_type": "code",
   "execution_count": null,
   "metadata": {},
   "outputs": [],
   "source": [
    "#Função com dois paramentros de entrada\n",
    "def divicao(valor1, valor2):\n",
    "    print(valor1, \"/\", valor2, \"=\", valor1 / valor2)\n",
    "divicao(10,2)"
   ]
  },
  {
   "cell_type": "code",
   "execution_count": null,
   "metadata": {},
   "outputs": [],
   "source": [
    "#Funções Buiit-in\n",
    "#Função - abs(\"numero\") - retorna o valor absoluto ex: entrada: -15, saisa: 50\n",
    "print(abs(-50))"
   ]
  },
  {
   "cell_type": "code",
   "execution_count": null,
   "metadata": {},
   "outputs": [],
   "source": [
    "#Função - bool() - retorna o valor booleano\n",
    "print(bool(0))\n",
    "print(bool(1))"
   ]
  },
  {
   "cell_type": "code",
   "execution_count": null,
   "metadata": {},
   "outputs": [],
   "source": [
    "#Funções Str, Float e Int\n",
    "#Função int() - numeros inteiros\n",
    "numero = int(input(\"Numero\"))\n",
    "if(numero % 2 == 0):\n",
    "    print(\"par\")\n",
    "else:\n",
    "    print(\"impar\")"
   ]
  },
  {
   "cell_type": "code",
   "execution_count": null,
   "metadata": {},
   "outputs": [],
   "source": [
    "print(int(\"5\"))"
   ]
  },
  {
   "cell_type": "code",
   "execution_count": null,
   "metadata": {},
   "outputs": [],
   "source": [
    "#Função float() - numeros flutuantes\n",
    "print(float(\"5\"))\n",
    "print(float(\"85.5\"))"
   ]
  },
  {
   "cell_type": "code",
   "execution_count": null,
   "metadata": {},
   "outputs": [],
   "source": [
    "#Função str() - transforma em um String\n",
    "print(str(\"cinco\"))\n",
    "print(str.lower(\"cinco\"))\n",
    "print(str.upper(\"cinco\"))"
   ]
  },
  {
   "cell_type": "code",
   "execution_count": null,
   "metadata": {},
   "outputs": [],
   "source": [
    "#Função len(x) - retorna o tamanho de uma entrada 'X' desejada\n",
    "a = [1,2,3,4]\n",
    "print(len(a))\n",
    "print(len(\"Seiya\"))"
   ]
  },
  {
   "cell_type": "code",
   "execution_count": null,
   "metadata": {},
   "outputs": [],
   "source": [
    "#Função max(x) - retorna o maior elemento de uma entrada 'X' desejada\n",
    "print(max(a))"
   ]
  },
  {
   "cell_type": "code",
   "execution_count": null,
   "metadata": {},
   "outputs": [],
   "source": [
    "#Função min(x) - retorna o menor elemento de uma entrada 'X' desejada\n",
    "print(min(a))"
   ]
  },
  {
   "cell_type": "code",
   "execution_count": null,
   "metadata": {},
   "outputs": [],
   "source": [
    "#Função min(x) - retorna a soma de todos os valores\n",
    "print(sum(a))"
   ]
  },
  {
   "cell_type": "code",
   "execution_count": null,
   "metadata": {},
   "outputs": [],
   "source": [
    "#Importando a biblioteca math, para usar a função math.sqrt() que faz a raiz quadrada de uma entrada 'x'\n",
    "import math\n",
    "\n",
    "def numeroPrimo(entrada):\n",
    "    if((entrada % 2 == 0) and (entrada > 2)):\n",
    "        return(\"Não é numero primo\")\n",
    "    for i in range(3, int(math.sqrt(entrada)) + 1, 2):\n",
    "        if(entrada % i == 0):\n",
    "            return(\"não é primo\")\n",
    "    return(\"é primo\")\n",
    "print(numeroPrimo(17))"
   ]
  },
  {
   "cell_type": "code",
   "execution_count": null,
   "metadata": {},
   "outputs": [],
   "source": [
    "#Função split() retorna a String separadas pelos seus indices nulos\n",
    "def splitString(entrada):\n",
    "    return entrada.split()\n",
    "print(splitString(\"Faça elevar, o cosmo em seu coração!\"))\n",
    "var = splitString(\"Faça elevar, o cosmo em seu coração!\")\n",
    "print(var)"
   ]
  },
  {
   "cell_type": "code",
   "execution_count": null,
   "metadata": {},
   "outputs": [],
   "source": [
    "# *vartuple permite ter um ou diversas entrdas de paramentos\n",
    "def relatar(entrada , *vartuple):\n",
    "    print(\"Entrada foi:\", entrada)\n",
    "    \n",
    "    for i in vartuple:\n",
    "        print(\"Entrada foi:\", i)\n",
    "    return;\n",
    "relatar(\"The Kids From Yesterday\")\n",
    "relatar(\"a\",\"b\",\"c\")"
   ]
  },
  {
   "cell_type": "code",
   "execution_count": null,
   "metadata": {},
   "outputs": [],
   "source": []
  }
 ],
 "metadata": {
  "kernelspec": {
   "display_name": "Python 3",
   "language": "python",
   "name": "python3"
  },
  "language_info": {
   "codemirror_mode": {
    "name": "ipython",
    "version": 3
   },
   "file_extension": ".py",
   "mimetype": "text/x-python",
   "name": "python",
   "nbconvert_exporter": "python",
   "pygments_lexer": "ipython3",
   "version": "3.7.2"
  }
 },
 "nbformat": 4,
 "nbformat_minor": 2
}
