{
 "cells": [
  {
   "cell_type": "code",
   "execution_count": null,
   "metadata": {},
   "outputs": [],
   "source": [
    "def potencia(entrada):\n",
    "    saida = entrada**2\n",
    "    return saida\n",
    "print(potencia(5))"
   ]
  },
  {
   "cell_type": "code",
   "execution_count": null,
   "metadata": {},
   "outputs": [],
   "source": [
    "#Refatorando a função\n",
    "def potencia(entrada):\n",
    "    return entrada**2\n",
    "print(potencia(5))"
   ]
  },
  {
   "cell_type": "code",
   "execution_count": null,
   "metadata": {},
   "outputs": [],
   "source": [
    "#Refatorando a função\n",
    "def potencia(entrada): return entrada**2\n",
    "print(potencia(5))"
   ]
  },
  {
   "cell_type": "code",
   "execution_count": null,
   "metadata": {},
   "outputs": [],
   "source": [
    "#Exemplo de aplicação de uma Lambda - Lambda é uma função simples\n",
    "potencia2 = lambda entra: entra**2\n",
    "print(potencia2(5))"
   ]
  },
  {
   "cell_type": "code",
   "execution_count": null,
   "metadata": {},
   "outputs": [],
   "source": [
    "#Exemplo de aplicação de uma Lambda com condicional logica\n",
    "boole = lambda entrada: entrada % 2 == 0\n",
    "print(boole(5))\n",
    "print(boole(4))"
   ]
  },
  {
   "cell_type": "code",
   "execution_count": null,
   "metadata": {},
   "outputs": [],
   "source": [
    "nome = lambda nom: nom[0]\n",
    "print(nome(\"Foo Fighters\"))"
   ]
  },
  {
   "cell_type": "code",
   "execution_count": null,
   "metadata": {},
   "outputs": [],
   "source": [
    "rever = lambda revers: revers[::-1]\n",
    "print(rever(\"Foo Fighters\"))"
   ]
  },
  {
   "cell_type": "code",
   "execution_count": null,
   "metadata": {},
   "outputs": [],
   "source": [
    "#Exemplo de aplicação de uma Lambda com mais de um parametro\n",
    "soma = lambda a,b: a + b\n",
    "print(soma(7,8))"
   ]
  },
  {
   "cell_type": "code",
   "execution_count": null,
   "metadata": {},
   "outputs": [],
   "source": []
  }
 ],
 "metadata": {
  "kernelspec": {
   "display_name": "Python 3",
   "language": "python",
   "name": "python3"
  },
  "language_info": {
   "codemirror_mode": {
    "name": "ipython",
    "version": 3
   },
   "file_extension": ".py",
   "mimetype": "text/x-python",
   "name": "python",
   "nbconvert_exporter": "python",
   "pygments_lexer": "ipython3",
   "version": "3.7.7"
  }
 },
 "nbformat": 4,
 "nbformat_minor": 2
}
