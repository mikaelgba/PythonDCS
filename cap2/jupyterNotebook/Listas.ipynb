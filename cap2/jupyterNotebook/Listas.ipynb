{
 "cells": [
  {
   "cell_type": "code",
   "execution_count": 4,
   "metadata": {},
   "outputs": [],
   "source": [
    "lista1 = [\"Eu, Você, e  o Zubumafu\"]"
   ]
  },
  {
   "cell_type": "code",
   "execution_count": 2,
   "metadata": {},
   "outputs": [],
   "source": [
    "lista2 = [\"Fogo\",\"Água\",\"Terra\",\"Ar\",\"Raio\",\"Metal\"]"
   ]
  },
  {
   "cell_type": "code",
   "execution_count": 5,
   "metadata": {},
   "outputs": [
    {
     "name": "stdout",
     "output_type": "stream",
     "text": [
      "['Eu, Você, e  o Zubumafu']\n"
     ]
    }
   ],
   "source": [
    "print(lista1)"
   ]
  },
  {
   "cell_type": "code",
   "execution_count": 6,
   "metadata": {},
   "outputs": [
    {
     "name": "stdout",
     "output_type": "stream",
     "text": [
      "Fogo\n",
      "Água\n",
      "Terra\n",
      "Ar\n"
     ]
    }
   ],
   "source": [
    "print(lista2[0])\n",
    "print(lista2[1])\n",
    "print(lista2[2])\n",
    "print(lista2[3])"
   ]
  },
  {
   "cell_type": "code",
   "execution_count": 7,
   "metadata": {},
   "outputs": [
    {
     "name": "stdout",
     "output_type": "stream",
     "text": [
      "['Eu, Você, e  o Zubumafu']\n"
     ]
    }
   ],
   "source": [
    "print(lista1)"
   ]
  },
  {
   "cell_type": "code",
   "execution_count": 13,
   "metadata": {},
   "outputs": [
    {
     "name": "stdout",
     "output_type": "stream",
     "text": [
      "['Eu, Você, e  o Zubumafu para sempre']\n"
     ]
    }
   ],
   "source": [
    "lista1[0] = \"Eu, Você, e  o Zubumafu para sempre\"\n",
    "print(lista1)"
   ]
  },
  {
   "cell_type": "code",
   "execution_count": 20,
   "metadata": {},
   "outputs": [
    {
     "name": "stdout",
     "output_type": "stream",
     "text": [
      "['Fogo', 'Água', 'Terra', 'Ar', 'Raio']\n"
     ]
    }
   ],
   "source": [
    "lista2 = [\"Fogo\",\"Água\",\"Terra\",\"Ar\",\"Raio\",\"Metal\"]\n",
    "del lista2[5]\n",
    "print(lista2)"
   ]
  },
  {
   "cell_type": "code",
   "execution_count": 21,
   "metadata": {},
   "outputs": [
    {
     "name": "stdout",
     "output_type": "stream",
     "text": [
      "Fogo\n"
     ]
    }
   ],
   "source": [
    "b = lista2[0]\n",
    "print(b)"
   ]
  },
  {
   "cell_type": "code",
   "execution_count": 25,
   "metadata": {},
   "outputs": [
    {
     "name": "stdout",
     "output_type": "stream",
     "text": [
      "[['Mu', 'Aiolia', 'Aiolos'], ['Aldebaran', 'Shaka', 'Shura'], ['Saga', 'Dorko', 'Kamus'], ['Mascará da Morte', 'Miro', 'Afrodite']]\n"
     ]
    }
   ],
   "source": [
    "lista3 = [[\"Mu\",\"Aiolia\",\"Aiolos\"],[\"Aldebaran\",\"Shaka\",\"Shura\"],[\"Saga\",\"Dorko\",\"Kamus\"],[\"Mascará da Morte\",\"Miro\",\"Afodite\"]]\n",
    "print(lista3)"
   ]
  },
  {
   "cell_type": "code",
   "execution_count": 8,
   "metadata": {},
   "outputs": [
    {
     "name": "stdout",
     "output_type": "stream",
     "text": [
      "Aiolos Melhor cavaleiro\n"
     ]
    }
   ],
   "source": [
    "lista3 = [[\"Mu\",\"Aiolia\",\"Aiolos\"],[\"Aldebaran\",\"Shaka\",\"Shura\"],[\"Saga\",\"Dorko\",\"Kamus\"],[\"Mascará da Morte\",\"Miro\",\"Afodite\"]]\n",
    "a = lista3[0][2] + \" Melhor cavaleiro\"\n",
    "print(a)"
   ]
  },
  {
   "cell_type": "code",
   "execution_count": 9,
   "metadata": {},
   "outputs": [
    {
     "name": "stdout",
     "output_type": "stream",
     "text": [
      "['Mu', 'Aiolia', 'Aiolos'] ['Aldebaran', 'Shaka', 'Shura'] ['Saga', 'Dorko', 'Kamus'] ['Mascará da Morte', 'Miro', 'Afodite']\n"
     ]
    }
   ],
   "source": [
    "a = lista3[0]\n",
    "b = lista3[1]\n",
    "c = lista3[2]\n",
    "d = lista3[3]\n",
    "print( a, b, c, d)"
   ]
  },
  {
   "cell_type": "code",
   "execution_count": 14,
   "metadata": {},
   "outputs": [
    {
     "name": "stdout",
     "output_type": "stream",
     "text": [
      "True\n"
     ]
    }
   ],
   "source": [
    "print(\"Mu\" in lista3[0])"
   ]
  },
  {
   "cell_type": "code",
   "execution_count": 15,
   "metadata": {},
   "outputs": [
    {
     "data": {
      "text/plain": [
       "4"
      ]
     },
     "execution_count": 15,
     "metadata": {},
     "output_type": "execute_result"
    }
   ],
   "source": [
    "print(len(lista3))"
   ]
  },
  {
   "cell_type": "code",
   "execution_count": 25,
   "metadata": {},
   "outputs": [
    {
     "data": {
      "text/plain": [
       "10"
      ]
     },
     "execution_count": 25,
     "metadata": {},
     "output_type": "execute_result"
    }
   ],
   "source": [
    "lista4 = [5,8,2,10,5]\n",
    "print(max(lista4))"
   ]
  },
  {
   "cell_type": "code",
   "execution_count": 48,
   "metadata": {},
   "outputs": [
    {
     "name": "stdout",
     "output_type": "stream",
     "text": [
      "2\n"
     ]
    }
   ],
   "source": [
    "lista4 = [5,8,2,10,5]\n",
    "print(min(lista4))"
   ]
  },
  {
   "cell_type": "code",
   "execution_count": 49,
   "metadata": {},
   "outputs": [
    {
     "name": "stdout",
     "output_type": "stream",
     "text": [
      "[5, 8, 2, 10, 5, 3]\n"
     ]
    }
   ],
   "source": [
    "lista4.append(3)\n",
    "print(lista4)"
   ]
  },
  {
   "cell_type": "code",
   "execution_count": 50,
   "metadata": {},
   "outputs": [
    {
     "name": "stdout",
     "output_type": "stream",
     "text": [
      "[5, 8, 7, 2, 10, 5, 3]\n"
     ]
    }
   ],
   "source": [
    "lista4.insert(2,7)\n",
    "print(lista4)"
   ]
  },
  {
   "cell_type": "code",
   "execution_count": 51,
   "metadata": {},
   "outputs": [
    {
     "name": "stdout",
     "output_type": "stream",
     "text": [
      "[5, 8, 7, 10, 5, 3]\n"
     ]
    }
   ],
   "source": [
    "lista4.remove(2)\n",
    "print(lista4)"
   ]
  },
  {
   "cell_type": "code",
   "execution_count": 54,
   "metadata": {},
   "outputs": [
    {
     "name": "stdout",
     "output_type": "stream",
     "text": [
      "[3, 5, 5, 7, 8, 10]\n"
     ]
    }
   ],
   "source": [
    "lista4.sort()\n",
    "print(lista4)"
   ]
  },
  {
   "cell_type": "code",
   "execution_count": 45,
   "metadata": {},
   "outputs": [
    {
     "name": "stdout",
     "output_type": "stream",
     "text": [
      "2\n"
     ]
    }
   ],
   "source": [
    "print(lista4.count(5))"
   ]
  },
  {
   "cell_type": "code",
   "execution_count": 46,
   "metadata": {},
   "outputs": [
    {
     "name": "stdout",
     "output_type": "stream",
     "text": [
      "['Fogo', 'Água', 'Terra', 'Ar', 'Raio', 'Metal', 'Nuvem', 'Energia']\n"
     ]
    }
   ],
   "source": [
    "list = [\"Fogo\",\"Água\",\"Terra\",\"Ar\",\"Raio\",\"Metal\"]\n",
    "list.extend ([\"Nuvem\",\"Energia\"])\n",
    "print(list)\n"
   ]
  },
  {
   "cell_type": "code",
   "execution_count": 47,
   "metadata": {},
   "outputs": [
    {
     "data": {
      "text/plain": [
       "2"
      ]
     },
     "execution_count": 47,
     "metadata": {},
     "output_type": "execute_result"
    }
   ],
   "source": [
    "list.index(\"Terra\")"
   ]
  }
 ],
 "metadata": {
  "kernelspec": {
   "display_name": "Python 3",
   "language": "python",
   "name": "python3"
  },
  "language_info": {
   "codemirror_mode": {
    "name": "ipython",
    "version": 3
   },
   "file_extension": ".py",
   "mimetype": "text/x-python",
   "name": "python",
   "nbconvert_exporter": "python",
   "pygments_lexer": "ipython3",
   "version": "3.7.2"
  }
 },
 "nbformat": 4,
 "nbformat_minor": 2
}
