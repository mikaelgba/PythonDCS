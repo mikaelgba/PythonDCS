{
 "cells": [
  {
   "cell_type": "code",
   "execution_count": null,
   "metadata": {},
   "outputs": [],
   "source": [
    "dicio1 = {\"Mu\":1,\"Aiolia\":5,\"Aiolos\":9,\"Aldebaran\":2,\"Shaka\":6,\"Shura\":10,\"Saga\":3,\"Dorko\":7,\"Kamus\":11,\"Mascará da Morte\":4,\"Miro\":8,\"Afodite\":12}\n",
    "print(dicio1)\n"
   ]
  },
  {
   "cell_type": "code",
   "execution_count": null,
   "metadata": {},
   "outputs": [],
   "source": [
    "print(dicio1[\"Mu\"])"
   ]
  },
  {
   "cell_type": "code",
   "execution_count": null,
   "metadata": {},
   "outputs": [],
   "source": [
    "#Limpar os elementos do Dicionario\n",
    "dicio1.clear()\n",
    "print(dicio1)"
   ]
  },
  {
   "cell_type": "code",
   "execution_count": null,
   "metadata": {},
   "outputs": [],
   "source": [
    "dicio2 ={\"Seiya\":13,\"Shiryu\":15,\"Ikki\":15,\"Yoga\":14,\"Shun\":13}\n",
    "dicio2[\"Seiya\"] = 14\n",
    "print(dicio2)"
   ]
  },
  {
   "cell_type": "code",
   "execution_count": null,
   "metadata": {},
   "outputs": [],
   "source": [
    "#Retorna se há uma chave no dicionario\n",
    "print(\"Seiya\" in dicio2)"
   ]
  },
  {
   "cell_type": "code",
   "execution_count": null,
   "metadata": {},
   "outputs": [],
   "source": [
    "#Retorna se há uma elemento no dicionario\n",
    "print(13 in dicio2.values())"
   ]
  },
  {
   "cell_type": "code",
   "execution_count": null,
   "metadata": {},
   "outputs": [],
   "source": [
    "#Retorna o tamanho\n",
    "print(len(dicio2))"
   ]
  },
  {
   "cell_type": "code",
   "execution_count": null,
   "metadata": {},
   "outputs": [],
   "source": [
    "#Retorna as chaves dos elementos\n",
    "print(dicio2.keys())"
   ]
  },
  {
   "cell_type": "code",
   "execution_count": null,
   "metadata": {},
   "outputs": [],
   "source": [
    "#Retorna os elementos do dicionario\n",
    "print(dicio2.values())"
   ]
  },
  {
   "cell_type": "code",
   "execution_count": null,
   "metadata": {},
   "outputs": [],
   "source": [
    "#Retorna os elementos do dicionario\n",
    "print(dicio2.items())"
   ]
  },
  {
   "cell_type": "code",
   "execution_count": null,
   "metadata": {},
   "outputs": [],
   "source": [
    "#Mescla 2 dicionarios\n",
    "dicio3 = {\"Saori\":14, \"Karno\":23}\n",
    "dicio2.update(dicio3)\n",
    "print(dicio3)"
   ]
  },
  {
   "cell_type": "code",
   "execution_count": null,
   "metadata": {},
   "outputs": [],
   "source": [
    "dicio4 = {1:\"eu\", 2:\"você\",3:\"e o zubumafu\"}\n",
    "print(dicio4[1].upper())"
   ]
  },
  {
   "cell_type": "code",
   "execution_count": null,
   "metadata": {},
   "outputs": [],
   "source": [
    "dicio4 = {1:\"eu\", 2:\"você\",3:\"e o zubumafu\"}\n",
    "print(dicio4[1].lower())"
   ]
  },
  {
   "cell_type": "code",
   "execution_count": null,
   "metadata": {},
   "outputs": [],
   "source": [
    "#Adicionando um elemento\n",
    "dicio4[4] = \" para sempre\"\n",
    "print(dicio4)"
   ]
  },
  {
   "cell_type": "code",
   "execution_count": null,
   "metadata": {},
   "outputs": [],
   "source": [
    "#Removendo um elemento\n",
    "del dicio4[4]\n",
    "print(dicio4)"
   ]
  },
  {
   "cell_type": "code",
   "execution_count": null,
   "metadata": {},
   "outputs": [],
   "source": [
    "#Dicioario com subListas\n",
    "dicio5 = {\"a\":[23,58,19],\"b\":[35,75,95],\"c\":[41,53,24]}\n",
    "dicio5[\"a\"][0] -= 2\n",
    "print(dicio5)"
   ]
  },
  {
   "cell_type": "code",
   "execution_count": null,
   "metadata": {},
   "outputs": [],
   "source": [
    "#Dicioario com mais de uma chave para cada elemento\n",
    "dicio6 = {\"id1\":{\"user1\":\"a\"},\"id2\":{\"user2\":\"b\"}}\n",
    "dicio6[\"id1\"][\"user1\"] = \"A\"\n",
    "dicio6[\"id2\"][\"user2\"] = \"B\"\n",
    "print(dicio6)"
   ]
  }
 ],
 "metadata": {
  "kernelspec": {
   "display_name": "Python 3",
   "language": "python",
   "name": "python3"
  },
  "language_info": {
   "codemirror_mode": {
    "name": "ipython",
    "version": 3
   },
   "file_extension": ".py",
   "mimetype": "text/x-python",
   "name": "python",
   "nbconvert_exporter": "python",
   "pygments_lexer": "ipython3",
   "version": "3.7.2"
  }
 },
 "nbformat": 4,
 "nbformat_minor": 2
}
