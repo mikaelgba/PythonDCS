{
 "cells": [
  {
   "cell_type": "code",
   "execution_count": 2,
   "metadata": {},
   "outputs": [],
   "source": [
    "import numpy as np\n",
    "import matplotlib.pyplot as plt\n",
    "import os"
   ]
  },
  {
   "cell_type": "code",
   "execution_count": null,
   "metadata": {},
   "outputs": [],
   "source": [
    "#np.__version__\n",
    "help(np.array)"
   ]
  },
  {
   "cell_type": "code",
   "execution_count": null,
   "metadata": {},
   "outputs": [],
   "source": [
    "#Arraycriado apartir de uma lista, podem ser, int, float, boolean, operações de numeros complexos e etc...\n",
    "array= np.array([1,2,3,4,5,6,7,8,9])\n",
    "print(array)"
   ]
  },
  {
   "cell_type": "code",
   "execution_count": null,
   "metadata": {},
   "outputs": [],
   "source": [
    "#func soma acumulada\n",
    "array.cumsum()"
   ]
  },
  {
   "cell_type": "code",
   "execution_count": null,
   "metadata": {},
   "outputs": [],
   "source": [
    "array.shape"
   ]
  },
  {
   "cell_type": "code",
   "execution_count": null,
   "metadata": {},
   "outputs": [],
   "source": [
    "array_dois = np.arange(0,10,1)\n",
    "print(array_dois)"
   ]
  },
  {
   "cell_type": "code",
   "execution_count": null,
   "metadata": {},
   "outputs": [],
   "source": [
    "array_dois.shape"
   ]
  },
  {
   "cell_type": "code",
   "execution_count": null,
   "metadata": {},
   "outputs": [],
   "source": [
    "array_tres = np.arange(0,10,0.25)\n",
    "print(array_tres)"
   ]
  },
  {
   "cell_type": "code",
   "execution_count": null,
   "metadata": {},
   "outputs": [],
   "source": [
    "#vai ser util nem Machine learn e deep learn\n",
    "print(np.zeros(10))"
   ]
  },
  {
   "cell_type": "code",
   "execution_count": null,
   "metadata": {},
   "outputs": [],
   "source": [
    "#Cria uma matriz principal\n",
    "array_quatro = np.eye(10)\n",
    "print(array_quatro)"
   ]
  },
  {
   "cell_type": "code",
   "execution_count": null,
   "metadata": {},
   "outputs": [],
   "source": [
    "#Cria uma matriz principal recebedo um array de entrada\n",
    "array_cinco = np.diag(np.array([1,2,3,4]))\n",
    "print(array_cinco)"
   ]
  },
  {
   "cell_type": "code",
   "execution_count": null,
   "metadata": {},
   "outputs": [],
   "source": [
    "print(np.linspace(0,10))"
   ]
  },
  {
   "cell_type": "code",
   "execution_count": null,
   "metadata": {},
   "outputs": [],
   "source": [
    "print(np.linspace(0,10,15))"
   ]
  },
  {
   "cell_type": "code",
   "execution_count": null,
   "metadata": {},
   "outputs": [],
   "source": [
    "print(np.logspace(0,5,10))"
   ]
  },
  {
   "cell_type": "markdown",
   "metadata": {},
   "source": [
    "matriz_um = np.array([1,2,3],[4,5,6],[7,8,9])\n",
    "print(matriz_um)"
   ]
  },
  {
   "cell_type": "code",
   "execution_count": null,
   "metadata": {},
   "outputs": [],
   "source": [
    "#Matriz 3 por 3\n",
    "matriz_um = np.array([[1,2,3],[4,5,6],[7,8,9]])\n",
    "print(matriz_um)"
   ]
  },
  {
   "cell_type": "code",
   "execution_count": null,
   "metadata": {},
   "outputs": [],
   "source": [
    "print(matriz_um.shape)"
   ]
  },
  {
   "cell_type": "code",
   "execution_count": null,
   "metadata": {},
   "outputs": [],
   "source": [
    "lista_aux = [[10,58,57],[25,34,69],[80,42,21]]"
   ]
  },
  {
   "cell_type": "code",
   "execution_count": null,
   "metadata": {},
   "outputs": [],
   "source": [
    "matriz_dois = np.matrix(lista_aux)\n",
    "print(matriz_dois)"
   ]
  },
  {
   "cell_type": "code",
   "execution_count": null,
   "metadata": {},
   "outputs": [],
   "source": [
    "print(matriz_dois.size)"
   ]
  },
  {
   "cell_type": "code",
   "execution_count": null,
   "metadata": {},
   "outputs": [],
   "source": [
    "print(matriz_dois.itemsize, \"\\n\")"
   ]
  },
  {
   "cell_type": "code",
   "execution_count": null,
   "metadata": {},
   "outputs": [],
   "source": [
    "#np pega o tipo da entrada, mas np decida o tipo que vai ser\n",
    "#mas é possivivel alterrar o tipo para um desejado, -> dtype = np.float64 ou -> dtype = np.int32\n",
    "w = np.array([1,2])\n",
    "x = np.array([1.0,2.0])\n",
    "y = np.array([1.0,2.0], dtype = np.int32)\n",
    "z = np.array([1,2], dtype = np.float64)\n",
    "print(w.dtype, x.dtype, y.dtype, z.dtype)"
   ]
  },
  {
   "cell_type": "code",
   "execution_count": 3,
   "metadata": {},
   "outputs": [
    {
     "name": "stdout",
     "output_type": "stream",
     "text": [
      "[0.18910965 0.66458392 0.5403104  0.64038275 0.04866744 0.16554876\n",
      " 0.88272999 0.75298485 0.26041918 0.53204727]\n"
     ]
    }
   ],
   "source": [
    "print(np.random.rand(10))"
   ]
  },
  {
   "cell_type": "code",
   "execution_count": 4,
   "metadata": {},
   "outputs": [
    {
     "data": {
      "image/png": "[encoded data removed]",
      "text/plain": [
       "<Figure size 432x288 with 1 Axes>"
      ]
     },
     "metadata": {
      "needs_background": "light"
     },
     "output_type": "display_data"
    }
   ],
   "source": [
    "# Usando o matplotlib para fazer uma visualizacao com valores randomicos\n",
    "plt.show((plt.hist(np.random.rand(1000))))"
   ]
  },
  {
   "cell_type": "code",
   "execution_count": 5,
   "metadata": {},
   "outputs": [
    {
     "data": {
      "image/png": "[encoded data removed]",
      "text/plain": [
       "<Figure size 432x288 with 1 Axes>"
      ]
     },
     "metadata": {
      "needs_background": "light"
     },
     "output_type": "display_data"
    }
   ],
   "source": [
    "# visualizacao com valores randomicos com base na distribuicao dos valores\n",
    "plt.show((plt.hist(np.random.randn(1000))))"
   ]
  },
  {
   "cell_type": "code",
   "execution_count": 7,
   "metadata": {},
   "outputs": [
    {
     "data": {
      "text/plain": [
       "<matplotlib.colorbar.Colorbar at 0x846ca50>"
      ]
     },
     "execution_count": 7,
     "metadata": {},
     "output_type": "execute_result"
    },
    {
     "data": {
      "image/png": "[encoded data removed]",
      "text/plain": [
       "<Figure size 432x288 with 2 Axes>"
      ]
     },
     "metadata": {
      "needs_background": "light"
     },
     "output_type": "display_data"
    }
   ],
   "source": [
    "imagem = np.random.rand(30,30)\n",
    "plt.imshow(imagem, cmap = plt.cm.hot)\n",
    "plt.colorbar()"
   ]
  },
  {
   "cell_type": "code",
   "execution_count": 28,
   "metadata": {},
   "outputs": [
    {
     "name": "stdout",
     "output_type": "stream",
     "text": [
      "[[5.1 3.5 1.4 0.2]\n",
      " [4.9 3.  1.4 0.2]\n",
      " [4.7 3.2 1.3 0.2]\n",
      " [4.6 3.1 1.5 0.2]\n",
      " [5.  3.6 1.4 0.2]\n",
      " [5.4 3.9 1.7 0.4]\n",
      " [4.6 3.4 1.4 0.3]\n",
      " [5.  3.4 1.5 0.2]\n",
      " [4.4 2.9 1.4 0.2]\n",
      " [4.9 3.1 1.5 0.1]\n",
      " [5.4 3.7 1.5 0.2]\n",
      " [4.8 3.4 1.6 0.2]\n",
      " [4.8 3.  1.4 0.1]\n",
      " [4.3 3.  1.1 0.1]\n",
      " [5.8 4.  1.2 0.2]\n",
      " [5.7 4.4 1.5 0.4]\n",
      " [5.4 3.9 1.3 0.4]\n",
      " [5.1 3.5 1.4 0.3]\n",
      " [5.7 3.8 1.7 0.3]\n",
      " [5.1 3.8 1.5 0.3]\n",
      " [5.4 3.4 1.7 0.2]\n",
      " [5.1 3.7 1.5 0.4]\n",
      " [4.6 3.6 1.  0.2]\n",
      " [5.1 3.3 1.7 0.5]\n",
      " [4.8 3.4 1.9 0.2]\n",
      " [5.  3.  1.6 0.2]\n",
      " [5.  3.4 1.6 0.4]\n",
      " [5.2 3.5 1.5 0.2]\n",
      " [5.2 3.4 1.4 0.2]\n",
      " [4.7 3.2 1.6 0.2]\n",
      " [4.8 3.1 1.6 0.2]\n",
      " [5.4 3.4 1.5 0.4]\n",
      " [5.2 4.1 1.5 0.1]\n",
      " [5.5 4.2 1.4 0.2]\n",
      " [4.9 3.1 1.5 0.1]\n",
      " [5.  3.2 1.2 0.2]\n",
      " [5.5 3.5 1.3 0.2]\n",
      " [4.9 3.1 1.5 0.1]\n",
      " [4.4 3.  1.3 0.2]\n",
      " [5.1 3.4 1.5 0.2]\n",
      " [5.  3.5 1.3 0.3]\n",
      " [4.5 2.3 1.3 0.3]\n",
      " [4.4 3.2 1.3 0.2]\n",
      " [5.  3.5 1.6 0.6]\n",
      " [5.1 3.8 1.9 0.4]\n",
      " [4.8 3.  1.4 0.3]\n",
      " [5.1 3.8 1.6 0.2]\n",
      " [4.6 3.2 1.4 0.2]\n",
      " [5.3 3.7 1.5 0.2]\n",
      " [5.  3.3 1.4 0.2]\n",
      " [7.  3.2 4.7 1.4]\n",
      " [6.4 3.2 4.5 1.5]\n",
      " [6.9 3.1 4.9 1.5]\n",
      " [5.5 2.3 4.  1.3]\n",
      " [6.5 2.8 4.6 1.5]\n",
      " [5.7 2.8 4.5 1.3]\n",
      " [6.3 3.3 4.7 1.6]\n",
      " [4.9 2.4 3.3 1. ]\n",
      " [6.6 2.9 4.6 1.3]\n",
      " [5.2 2.7 3.9 1.4]\n",
      " [5.  2.  3.5 1. ]\n",
      " [5.9 3.  4.2 1.5]\n",
      " [6.  2.2 4.  1. ]\n",
      " [6.1 2.9 4.7 1.4]\n",
      " [5.6 2.9 3.6 1.3]\n",
      " [6.7 3.1 4.4 1.4]\n",
      " [5.6 3.  4.5 1.5]\n",
      " [5.8 2.7 4.1 1. ]\n",
      " [6.2 2.2 4.5 1.5]\n",
      " [5.6 2.5 3.9 1.1]\n",
      " [5.9 3.2 4.8 1.8]\n",
      " [6.1 2.8 4.  1.3]\n",
      " [6.3 2.5 4.9 1.5]\n",
      " [6.1 2.8 4.7 1.2]\n",
      " [6.4 2.9 4.3 1.3]\n",
      " [6.6 3.  4.4 1.4]\n",
      " [6.8 2.8 4.8 1.4]\n",
      " [6.7 3.  5.  1.7]\n",
      " [6.  2.9 4.5 1.5]\n",
      " [5.7 2.6 3.5 1. ]\n",
      " [5.5 2.4 3.8 1.1]\n",
      " [5.5 2.4 3.7 1. ]\n",
      " [5.8 2.7 3.9 1.2]\n",
      " [6.  2.7 5.1 1.6]\n",
      " [5.4 3.  4.5 1.5]\n",
      " [6.  3.4 4.5 1.6]\n",
      " [6.7 3.1 4.7 1.5]\n",
      " [6.3 2.3 4.4 1.3]\n",
      " [5.6 3.  4.1 1.3]\n",
      " [5.5 2.5 4.  1.3]\n",
      " [5.5 2.6 4.4 1.2]\n",
      " [6.1 3.  4.6 1.4]\n",
      " [5.8 2.6 4.  1.2]\n",
      " [5.  2.3 3.3 1. ]\n",
      " [5.6 2.7 4.2 1.3]\n",
      " [5.7 3.  4.2 1.2]\n",
      " [5.7 2.9 4.2 1.3]\n",
      " [6.2 2.9 4.3 1.3]\n",
      " [5.1 2.5 3.  1.1]\n",
      " [5.7 2.8 4.1 1.3]\n",
      " [6.3 3.3 6.  2.5]\n",
      " [5.8 2.7 5.1 1.9]\n",
      " [7.1 3.  5.9 2.1]\n",
      " [6.3 2.9 5.6 1.8]\n",
      " [6.5 3.  5.8 2.2]\n",
      " [7.6 3.  6.6 2.1]\n",
      " [4.9 2.5 4.5 1.7]\n",
      " [7.3 2.9 6.3 1.8]\n",
      " [6.7 2.5 5.8 1.8]\n",
      " [7.2 3.6 6.1 2.5]\n",
      " [6.5 3.2 5.1 2. ]\n",
      " [6.4 2.7 5.3 1.9]\n",
      " [6.8 3.  5.5 2.1]\n",
      " [5.7 2.5 5.  2. ]\n",
      " [5.8 2.8 5.1 2.4]\n",
      " [6.4 3.2 5.3 2.3]\n",
      " [6.5 3.  5.5 1.8]\n",
      " [7.7 3.8 6.7 2.2]\n",
      " [7.7 2.6 6.9 2.3]\n",
      " [6.  2.2 5.  1.5]\n",
      " [6.9 3.2 5.7 2.3]\n",
      " [5.6 2.8 4.9 2. ]\n",
      " [7.7 2.8 6.7 2. ]\n",
      " [6.3 2.7 4.9 1.8]\n",
      " [6.7 3.3 5.7 2.1]\n",
      " [7.2 3.2 6.  1.8]\n",
      " [6.2 2.8 4.8 1.8]\n",
      " [6.1 3.  4.9 1.8]\n",
      " [6.4 2.8 5.6 2.1]\n",
      " [7.2 3.  5.8 1.6]\n",
      " [7.4 2.8 6.1 1.9]\n",
      " [7.9 3.8 6.4 2. ]\n",
      " [6.4 2.8 5.6 2.2]\n",
      " [6.3 2.8 5.1 1.5]\n",
      " [6.1 2.6 5.6 1.4]\n",
      " [7.7 3.  6.1 2.3]\n",
      " [6.3 3.4 5.6 2.4]\n",
      " [6.4 3.1 5.5 1.8]\n",
      " [6.  3.  4.8 1.8]\n",
      " [6.9 3.1 5.4 2.1]\n",
      " [6.7 3.1 5.6 2.4]\n",
      " [6.9 3.1 5.1 2.3]\n",
      " [5.8 2.7 5.1 1.9]\n",
      " [6.8 3.2 5.9 2.3]\n",
      " [6.7 3.3 5.7 2.5]\n",
      " [6.7 3.  5.2 2.3]\n",
      " [6.3 2.5 5.  1.9]\n",
      " [6.5 3.  5.2 2. ]\n",
      " [6.2 3.4 5.4 2.3]\n",
      " [5.9 3.  5.1 1.8]]\n"
     ]
    },
    {
     "name": "stderr",
     "output_type": "stream",
     "text": [
      "NÆo ‚ poss¡vel o acesso ao arquivo G:\\Projetos Programa‡Æo\\PythonDSA\\cap8\\jupyterNotebook\\iris.csv\n"
     ]
    }
   ],
   "source": [
    "nome = os.path.join(\"../arquivos/iris.csv\")\n",
    "# !more Windows, Linux ou Mac !Head, ambos so funcionam no Jupyter\n",
    "!more iris.csv\n",
    "leitura = np.loadtxt(nome, delimiter = \",\", usecols = [0,1,2,3], skiprows = 1)\n",
    "print(leitura)"
   ]
  },
  {
   "cell_type": "code",
   "execution_count": 32,
   "metadata": {},
   "outputs": [
    {
     "data": {
      "image/png": "[encoded data removed]",
      "text/plain": [
       "<Figure size 432x288 with 1 Axes>"
      ]
     },
     "metadata": {
      "needs_background": "light"
     },
     "output_type": "display_data"
    }
   ],
   "source": [
    "leitura_uma, leittura_dois = np.loadtxt(nome, delimiter = \",\", usecols = [0,1], skiprows = 1, unpack = True)\n",
    "plt.show(plt.plot(leitura_uma, leittura_dois, \"o\", markersize = 8, alpha = 0.75))"
   ]
  },
  {
   "cell_type": "code",
   "execution_count": 5,
   "metadata": {},
   "outputs": [],
   "source": [
    "array_aux = np.array([10,52,67,41])"
   ]
  },
  {
   "cell_type": "code",
   "execution_count": 6,
   "metadata": {},
   "outputs": [
    {
     "name": "stdout",
     "output_type": "stream",
     "text": [
      "42.5\n"
     ]
    }
   ],
   "source": [
    "# Media dos valores do array\n",
    "print(np.mean(array_aux))"
   ]
  },
  {
   "cell_type": "code",
   "execution_count": 7,
   "metadata": {},
   "outputs": [
    {
     "name": "stdout",
     "output_type": "stream",
     "text": [
      "20.910523666326483\n"
     ]
    }
   ],
   "source": [
    "# Desvio padrao dos valores do array\n",
    "print(np.std(array_aux))"
   ]
  },
  {
   "cell_type": "code",
   "execution_count": 8,
   "metadata": {},
   "outputs": [
    {
     "name": "stdout",
     "output_type": "stream",
     "text": [
      "437.25\n"
     ]
    }
   ],
   "source": [
    "# variancia dos valores do array\n",
    "print(np.var(array_aux))"
   ]
  },
  {
   "cell_type": "code",
   "execution_count": 9,
   "metadata": {},
   "outputs": [
    {
     "name": "stdout",
     "output_type": "stream",
     "text": [
      "45\n"
     ]
    }
   ],
   "source": [
    "# soma dos elementos dentro do array\n",
    "array_aux2 = np.arange(1,10)\n",
    "print(np.sum(array_aux2))"
   ]
  },
  {
   "cell_type": "code",
   "execution_count": 11,
   "metadata": {},
   "outputs": [
    {
     "name": "stdout",
     "output_type": "stream",
     "text": [
      "[ 1  3  6 10 15 21 28 36 45]\n"
     ]
    }
   ],
   "source": [
    "# soma acumulada dos elementos dentro do array\n",
    "print(np.cumsum(array_aux2))"
   ]
  },
  {
   "cell_type": "code",
   "execution_count": 12,
   "metadata": {},
   "outputs": [
    {
     "name": "stdout",
     "output_type": "stream",
     "text": [
      "362880\n"
     ]
    }
   ],
   "source": [
    "# retorna o produto dos  elementos dentro do array\n",
    "print(np.prod(array_aux2))"
   ]
  },
  {
   "cell_type": "code",
   "execution_count": 30,
   "metadata": {},
   "outputs": [
    {
     "name": "stdout",
     "output_type": "stream",
     "text": [
      "[[-0.61676965  0.32325359]\n",
      " [ 0.09582402 -0.07789088]\n",
      " [ 0.65756135  0.28142716]\n",
      " [-1.30958103  0.36539786]\n",
      " [ 0.26048713  0.96921675]\n",
      " [ 0.47457816  0.70696728]\n",
      " [ 1.04195908  0.46490097]\n",
      " [-0.43599621  0.59681568]\n",
      " [ 0.07726357  0.42827389]\n",
      " [ 0.60541915  0.94050751]\n",
      " [ 0.04413318 -0.0323177 ]\n",
      " [-0.93462838  0.11008936]\n",
      " [ 1.66453946 -0.54435817]\n",
      " [ 0.00452516  0.84712873]\n",
      " [-1.20670431  0.31760035]\n",
      " [ 0.63370938  1.65147032]\n",
      " [-1.043592   -3.15078864]\n",
      " [ 1.74841762  0.39722787]\n",
      " [ 0.29047243  1.16632552]\n",
      " [ 0.64596863 -1.01467903]\n",
      " [ 0.50368126 -0.38979818]\n",
      " [-1.22370219 -1.25156507]\n",
      " [-0.0906012   0.03199007]\n",
      " [ 0.84524202 -1.46210896]\n",
      " [ 0.5368348  -0.10313393]\n",
      " [-0.80887275  0.48661335]\n",
      " [ 0.36818381  0.12090974]\n",
      " [-0.13265893  0.84784281]\n",
      " [-0.5365101   0.78497446]\n",
      " [ 0.62601405 -0.26493528]\n",
      " [-0.55274715  0.13036704]\n",
      " [-0.66240591 -0.51260029]\n",
      " [ 0.56917494 -1.36666216]\n",
      " [-1.59993865  0.44642043]\n",
      " [ 1.04758318  0.33130055]\n",
      " [-0.38121007 -1.72510531]\n",
      " [ 1.35740185 -1.32011371]\n",
      " [ 0.02397451 -1.40676393]\n",
      " [-0.4942742   0.49778348]\n",
      " [-0.07281334  0.95700209]\n",
      " [ 0.1299007  -0.68111048]\n",
      " [-0.02245552 -1.13617581]\n",
      " [-2.76475969  0.53411045]\n",
      " [ 0.41314187  1.06786803]\n",
      " [-0.47156685 -1.88378031]\n",
      " [ 1.00050832  1.18432558]\n",
      " [ 0.88268075 -1.36802569]\n",
      " [-0.06330584 -0.17206921]\n",
      " [ 0.94628693 -0.76282643]\n",
      " [-0.9033938   1.49343891]\n",
      " [ 0.34952247 -1.03288757]\n",
      " [-0.91787698 -0.97686164]\n",
      " [-2.36490537  1.05689723]\n",
      " [-0.18507248  0.69949196]\n",
      " [ 0.26556342 -1.92054591]\n",
      " [-2.17061369 -1.00675252]\n",
      " [-0.53436686 -0.36603402]\n",
      " [-0.57006403 -1.47437351]\n",
      " [-0.88100508 -0.6800871 ]\n",
      " [-1.49608475  0.80106642]\n",
      " [-0.7338029   0.53238768]\n",
      " [-1.25703202  0.11842075]\n",
      " [ 1.20745878  0.54272344]\n",
      " [ 1.51232214  0.63910612]\n",
      " [ 1.52553451 -0.92506474]\n",
      " [ 1.47887982  1.53745219]\n",
      " [-0.34426331 -0.16310207]\n",
      " [ 0.02750737  0.12037626]\n",
      " [ 0.61627488 -0.70315505]\n",
      " [ 1.37287789 -1.12086777]\n",
      " [ 0.73982643 -0.69226522]\n",
      " [-0.83728851  0.52363167]\n",
      " [ 0.68222795  0.20909469]\n",
      " [-0.47397868 -1.56071097]\n",
      " [ 1.45148201  0.2282664 ]\n",
      " [ 0.63509202 -0.83559967]\n",
      " [-1.3022075  -1.12408414]\n",
      " [ 2.03432468 -0.75351058]\n",
      " [ 1.69156247 -0.05742912]\n",
      " [ 0.32696715 -3.11287013]\n",
      " [-0.44420926  0.29529156]\n",
      " [ 0.87256261 -1.26914433]\n",
      " [ 0.30248438 -0.42201086]\n",
      " [-0.72237361 -0.18359646]\n",
      " [-0.25417743  0.85040978]\n",
      " [-0.50981862 -0.56891143]\n",
      " [ 0.95063655  0.27245713]\n",
      " [-1.43991567 -1.00566883]\n",
      " [-0.715933   -2.23738663]\n",
      " [-0.74028718  0.45347155]\n",
      " [ 1.40666851 -0.18280586]\n",
      " [-0.35644182  0.00826063]\n",
      " [ 0.79307423  0.29263364]\n",
      " [ 0.66452117  0.28113566]\n",
      " [-2.01258156 -0.83714607]\n",
      " [-0.28345337 -0.52431008]\n",
      " [ 1.47258303  1.03954031]\n",
      " [ 0.41804339  0.11370388]\n",
      " [-0.2122709   2.11490522]\n",
      " [ 0.90527461 -2.07977643]\n",
      " [-0.41336356 -0.48606544]\n",
      " [-0.01639565 -1.24310782]\n",
      " [-1.31281638 -2.74446773]\n",
      " [ 1.16228813 -0.03523334]\n",
      " [-1.25846451  0.50976702]\n",
      " [-1.65249173  1.57114104]\n",
      " [ 0.04367604 -0.13360308]\n",
      " [-1.12430224  2.69701853]\n",
      " [-0.08878384 -0.49484717]\n",
      " [-0.04270923 -0.55240656]\n",
      " [-1.02113399 -0.48238293]\n",
      " [ 2.15052866 -1.41090933]\n",
      " [ 0.93972152 -0.63224383]\n",
      " [ 0.62192313  0.5453313 ]\n",
      " [-1.71990083 -0.36006078]\n",
      " [-0.69535893 -0.36979515]\n",
      " [-2.02611256  0.08363342]\n",
      " [-0.35049456 -0.45629931]\n",
      " [ 2.50477255  1.11381739]\n",
      " [ 0.38372869 -0.79884518]\n",
      " [ 1.34806691 -2.15072232]\n",
      " [ 1.03779309 -0.37054629]\n",
      " [-0.96230348 -0.22383995]\n",
      " [ 1.46906477  1.68574036]\n",
      " [-1.41366533 -1.25897324]\n",
      " [-0.19819498 -1.47437143]\n",
      " [ 0.52282479  0.82175502]\n",
      " [-0.17394204 -0.15271972]\n",
      " [-0.98236739  1.1466414 ]\n",
      " [-1.36073735  0.23959063]\n",
      " [-0.03628412  1.11913088]\n",
      " [ 0.64892536  0.69114194]\n",
      " [-0.72740409  1.54269222]\n",
      " [-0.89549985 -1.57320109]\n",
      " [ 1.19157446 -0.31442205]\n",
      " [-1.42225073 -0.36675407]\n",
      " [-0.81745313  0.01890263]\n",
      " [ 0.80309334  2.16178204]\n",
      " [-0.78404648  1.42760599]\n",
      " [-0.12024131  0.34501359]\n",
      " [-0.28746136  0.15858214]\n",
      " [-1.17660525  1.14333022]\n",
      " [-0.5570084  -0.57549852]\n",
      " [ 0.93936834 -0.44684963]\n",
      " [-0.10134261  0.82251111]\n",
      " [ 0.41197147 -0.46550274]\n",
      " [-0.17196752  0.2228114 ]\n",
      " [ 0.35467408 -1.58284123]\n",
      " [-0.83502763  0.21968221]\n",
      " [ 0.71705239 -0.00545526]\n",
      " [-0.32949149  0.14952062]\n",
      " [-0.07645378  0.03764421]\n",
      " [-1.4560327   0.70268143]\n",
      " [-0.15567673  2.00892868]\n",
      " [ 0.78147043 -0.03521173]\n",
      " [ 0.34114355 -1.42723449]\n",
      " [-1.07081539  0.00599823]\n",
      " [-0.75640404 -1.0901459 ]\n",
      " [ 1.45670058  0.91095875]\n",
      " [ 0.88569919  0.58675652]\n",
      " [ 0.28157473 -0.87575365]\n",
      " [-0.77571954  0.99160541]\n",
      " [ 1.84396192  2.82620073]\n",
      " [-0.8620968  -1.00653597]\n",
      " [-1.31230033 -0.38257764]\n",
      " [-1.5257625   1.65246118]\n",
      " [ 1.10527831  0.21609016]\n",
      " [-1.21223748  0.25833718]\n",
      " [ 1.15454128 -1.24748755]\n",
      " [ 0.13244341  0.66319893]\n",
      " [ 1.52260159  0.25718144]\n",
      " [-0.37139287 -2.27758639]\n",
      " [-0.97609086 -1.63060844]\n",
      " [ 0.83102385  1.80718661]\n",
      " [-1.18530581  0.04377413]\n",
      " [ 2.0013784  -0.17289207]\n",
      " [ 0.38735679  0.92330373]\n",
      " [ 0.95624248  1.028582  ]\n",
      " [-0.58415326 -1.2032592 ]\n",
      " [ 0.59836647 -0.15431376]\n",
      " [-1.71615871  0.75133186]\n",
      " [-0.98723768  0.11175114]\n",
      " [-1.27714036 -0.61566974]\n",
      " [-0.75788681  1.24780323]\n",
      " [-0.17236828  0.96308714]\n",
      " [-0.53591529 -0.05926644]\n",
      " [ 0.52861634 -0.78332982]\n",
      " [-0.92423654 -1.75018924]\n",
      " [-0.30029303 -1.34053954]\n",
      " [ 0.40823851  0.75950234]\n",
      " [ 1.87112275  1.31494264]\n",
      " [ 0.25770807 -0.03146304]\n",
      " [ 0.15237633  0.24214421]\n",
      " [ 0.82797753 -2.33318603]\n",
      " [-0.1765247  -0.31420437]\n",
      " [ 0.58118249  0.74518045]\n",
      " [ 0.87793373  1.34046395]\n",
      " [-0.11016261 -0.0100937 ]\n",
      " [ 0.54866132  1.28107502]\n",
      " [ 1.86442423  1.83692558]\n",
      " [-1.5801137  -1.2285776 ]\n",
      " [-0.11476999  1.56026454]\n",
      " [ 0.32778421  0.74004773]\n",
      " [ 0.834484   -2.2524461 ]\n",
      " [ 1.01307256  0.93398157]\n",
      " [ 1.58507836  0.54367456]\n",
      " [-0.04243316  0.55655408]\n",
      " [-0.88316893  0.13200084]\n",
      " [-0.03190024 -0.83566094]\n",
      " [-0.41770011  0.88371838]\n",
      " [ 0.1433703   0.67784536]\n",
      " [-0.97195    -1.12660772]\n",
      " [ 0.26233033  0.08266169]\n",
      " [ 0.28562391  0.08085966]\n",
      " [-0.10434334  0.82335095]\n",
      " [-0.7764861   0.00689092]\n",
      " [ 0.93669309 -0.67528026]\n",
      " [ 0.22093211 -2.27741319]\n",
      " [-1.9440087   0.08418623]\n",
      " [-0.39111544  1.07107442]\n",
      " [ 0.68259489  1.40101914]\n",
      " [-1.25630225 -0.5201053 ]\n",
      " [ 0.27881821 -0.44999795]\n",
      " [ 0.99614122 -0.53787196]\n",
      " [ 0.17129276  0.22225388]\n",
      " [-0.09280359 -0.52967156]\n",
      " [-0.5797257  -0.4521163 ]\n",
      " [ 1.05118746  0.46887073]\n",
      " [ 1.15058052  0.64356682]\n",
      " [-1.52898634 -0.55962117]\n",
      " [-0.07239434 -0.20697519]\n",
      " [-0.67844558 -0.89834719]\n",
      " [ 0.48676297 -0.28677436]\n",
      " [ 0.8839671  -0.52328716]\n",
      " [ 0.91713372  1.47963956]\n",
      " [-1.5248118  -1.37624101]\n",
      " [-0.044033   -1.14689648]\n",
      " [ 1.15947581 -0.17714993]\n",
      " [ 0.91561132  1.71485269]\n",
      " [ 0.94653615  0.00877329]\n",
      " [-0.05763147 -0.61927549]\n",
      " [-1.62331739 -0.53889206]\n",
      " [ 0.49542602 -1.71604352]\n",
      " [-0.77429801 -0.5950122 ]\n",
      " [ 0.80845238  0.78327595]\n",
      " [-0.5935041   1.14301278]\n",
      " [-0.54386191 -0.34865967]\n",
      " [-0.41885198  0.17173797]\n",
      " [-0.5955045   0.44523409]\n",
      " [-1.83009107 -0.16471947]] [-0.01885557 -0.05826826]\n"
     ]
    }
   ],
   "source": [
    "# Criando um array randomico de 2 elementos coordenados, depois fazer dua media\n",
    "# criando um grafico no fim\n",
    "array_aux3 = np.random.randn(250,2)\n",
    "media_array = array_aux3.mean(0)\n",
    "print(array_aux3, media_array)"
   ]
  },
  {
   "cell_type": "code",
   "execution_count": 31,
   "metadata": {},
   "outputs": [
    {
     "data": {
      "image/png": "[encoded data removed]",
      "text/plain": [
       "<Figure size 432x288 with 1 Axes>"
      ]
     },
     "metadata": {
      "needs_background": "light"
     },
     "output_type": "display_data"
    }
   ],
   "source": [
    "plt.plot(array_aux3[:,0], array_aux3[:,1], \"o\", markersize = 5, alpha = 0.60)\n",
    "plt.plot(media_array[0], media_array[1], \"ro\", markersize = 10)\n",
    "plt.show()"
   ]
  },
  {
   "cell_type": "code",
   "execution_count": null,
   "metadata": {},
   "outputs": [],
   "source": []
  },
  {
   "cell_type": "code",
   "execution_count": null,
   "metadata": {},
   "outputs": [],
   "source": []
  }
 ],
 "metadata": {
  "kernelspec": {
   "display_name": "Python 3",
   "language": "python",
   "name": "python3"
  },
  "language_info": {
   "codemirror_mode": {
    "name": "ipython",
    "version": 3
   },
   "file_extension": ".py",
   "mimetype": "text/x-python",
   "name": "python",
   "nbconvert_exporter": "python",
   "pygments_lexer": "ipython3",
   "version": "3.7.7"
  }
 },
 "nbformat": 4,
 "nbformat_minor": 4
}
