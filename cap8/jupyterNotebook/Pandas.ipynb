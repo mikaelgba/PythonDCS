{
 "cells": [
  {
   "cell_type": "code",
   "execution_count": null,
   "metadata": {},
   "outputs": [],
   "source": [
    "from pandas import Series\n",
    "from pandas import DataFrame\n",
    "from matplotlib import style\n",
    "import pandas as pd\n",
    "import numpy as np\n",
    "import matplotlib as plt\n",
    "import sys\n",
    "import os "
   ]
  },
  {
   "cell_type": "code",
   "execution_count": null,
   "metadata": {},
   "outputs": [],
   "source": [
    "# SERIES - >>>"
   ]
  },
  {
   "cell_type": "code",
   "execution_count": null,
   "metadata": {},
   "outputs": [],
   "source": [
    "# como padrao, mesmo nao colocando os indices em uma Series o pandas coloca o index da Series\n",
    "serie_um = Series([10,20,30,40])\n",
    "print(serie_um, \"\\n\", serie_um.values, \"\\n\", serie_um.index, \"\\n\")"
   ]
  },
  {
   "cell_type": "code",
   "execution_count": null,
   "metadata": {},
   "outputs": [],
   "source": [
    "# Series([10,20,30,40], index = [\"a\",\"b\",\"c\",\"d\"]) -> Colocando indices em uma Series\n",
    "serie_dois = Series([10,20,30,40], index = [\"a\",\"b\",\"c\",\"d\"])\n",
    "print(serie_dois, \"\\n\", serie_dois.values, \"\\n\", serie_dois.index, \"\\n\")"
   ]
  },
  {
   "cell_type": "code",
   "execution_count": null,
   "metadata": {},
   "outputs": [],
   "source": [
    "# Series permitem a uma leitura facil dos dados em fragmentos\n",
    "# seguindo certos paramentos de exclusao\n",
    "print(serie_dois[serie_dois.index != \"b\"], \"\\n\")\n",
    "print(serie_dois[serie_dois.values < 30], \"\\n\")"
   ]
  },
  {
   "cell_type": "code",
   "execution_count": null,
   "metadata": {},
   "outputs": [],
   "source": [
    "print(\"d\" in serie_dois, \"\\n\")"
   ]
  },
  {
   "cell_type": "code",
   "execution_count": null,
   "metadata": {},
   "outputs": [],
   "source": [
    "# Posso criar um dicionario e passar para uma Series como paramentro\n",
    "dicio = {\"Mu\": [1, \"Aries\"], \"Aldebaran\": [2, \"Touro\"], \"Saga\": [3, \"Gemios\"],  \"Mascará da Morte\": [4, \"Cancer\"],\n",
    "         \"Aiolia\": [5, \"Leao\"], \"Shaka\" : [6, \"Virgem\"], \"Dorko\": [7, \"Libra\"], \"Miro\": [8, \"Escopiao\"],\n",
    "         \"Aiolos\": [9, \"Sagitario\"], \"Shura\": [10, \"Capriconio\"], \"Kamus\": [11, \"Aquario\"], \"Afodite\": [12, \"Peixes\"]}\n",
    "\n",
    "serie_tres = Series(dicio)\n",
    "print(serie_tres, \"\\n\")"
   ]
  },
  {
   "cell_type": "code",
   "execution_count": null,
   "metadata": {},
   "outputs": [],
   "source": [
    "dicio_dois = {\"User 1\": \"Michael\", \"User 2\": \"Mago\", \"User 3\": \"Implacavel\", \"User 4\": \"Supremo\", \"User 5\": \"Lendario\"}\n",
    "lista = [\"User 1\", \"User 2\", \"User 3\", \"User 4\", \"User 6\"]\n",
    "serie_quatro = Series(dicio_dois, index = lista)\n",
    "print(serie_quatro, \"\\n\")"
   ]
  },
  {
   "cell_type": "code",
   "execution_count": null,
   "metadata": {},
   "outputs": [],
   "source": [
    "# Ao ultilizar Series necessario atencao nos indices \n",
    "# para evitar a criacao de elementos nulos, como no exemplo abaixo\n",
    "# User 1       Michael\n",
    "# User 2          Mago\n",
    "# User 3    Implacavel\n",
    "# User 4       Supremo\n",
    "# User 6           NaN\n"
   ]
  },
  {
   "cell_type": "code",
   "execution_count": null,
   "metadata": {},
   "outputs": [],
   "source": [
    "# pd.isnull(Series) -> retorna se ha elementos nulos \n",
    "print(pd.isnull(serie_quatro))"
   ]
  },
  {
   "cell_type": "code",
   "execution_count": null,
   "metadata": {},
   "outputs": [],
   "source": [
    "serie_quatro.name = \"Users\"\n",
    "serie_quatro.index.name = \"Users\"\n",
    "print(serie_quatro)"
   ]
  },
  {
   "cell_type": "code",
   "execution_count": null,
   "metadata": {},
   "outputs": [],
   "source": [
    "# DATAFRAMES - >>>"
   ]
  },
  {
   "cell_type": "code",
   "execution_count": null,
   "metadata": {},
   "outputs": [],
   "source": [
    "data = {'Sigla' : ['AC', 'AL', 'AP', 'AM', 'BA', 'CE', 'DF', 'ES',\n",
    "                      'GO', 'MA', 'MT', 'MS', 'MG', 'PA', 'PB', 'PE',\n",
    "                      'PE', 'PE', 'RJ', 'RN', 'RS', 'RO', 'RR', 'SC',\n",
    "                      'SP', 'SE', 'TO',],\n",
    "           'Estado' : ['Acre', 'Alagoas', 'Amapá', 'Amazonas', 'Bahia',\n",
    "                       'Ceara', 'Distrito Federal', 'Espírito Santo',\n",
    "                       'Goiás', 'Maranhão', 'Mato Grosso', 'Mato Grosso',\n",
    "                       'Mato Grosso do Sul', 'Minas Gerais', 'Pará',\n",
    "                       'Paraíba', 'Pernambuco', 'Piauí', 'Rio de Janeiro',\n",
    "                       'Rio Grande do Norte', 'Rio Grande do Sul', 'Rondônia',\n",
    "                       'Roraima', 'Santa Catarina', 'São Paulo', 'Sergipe',\n",
    "                       'Tocantins',],\n",
    "           'População' : [732793, 3120922, 668689, 3480937, 14021432,\n",
    "                          8448.055, 2562963, 3512672, 6004045, 6569683,\n",
    "                          3033.991, 2449341, 19595309, 7588078, 3766834,\n",
    "                          10439.601, 8796032, 3119015, 15993583, 3168133,\n",
    "                          10695.532, 1560501, 6341000, 6249682, 41252160,\n",
    "                          2068031, 1383453]}"
   ]
  },
  {
   "cell_type": "code",
   "execution_count": null,
   "metadata": {},
   "outputs": [],
   "source": [
    "# Criando um dataframe\n",
    "dataframe_um = DataFrame(data)\n",
    "print(dataframe_um.head())"
   ]
  },
  {
   "cell_type": "code",
   "execution_count": null,
   "metadata": {},
   "outputs": [],
   "source": [
    "# Ordernando as colunas de um DataFrame\n",
    "dataframe_dois = DataFrame(data, columns=[\"Estado\", \"Sigla\", \"População\"])\n",
    "print(dataframe_dois)"
   ]
  },
  {
   "cell_type": "code",
   "execution_count": null,
   "metadata": {},
   "outputs": [],
   "source": [
    "# Adicionando uma nova coluna\n",
    "dataframe_tres = DataFrame(data, columns = [\"Estado\", \"Sigla\", \"População\", \"Numero Estado\"],\n",
    "                          index = np.arange(27))\n",
    "print(dataframe_tres)"
   ]
  },
  {
   "cell_type": "code",
   "execution_count": null,
   "metadata": {},
   "outputs": [],
   "source": [
    "dataframe_tres[:5]"
   ]
  },
  {
   "cell_type": "code",
   "execution_count": null,
   "metadata": {},
   "outputs": [],
   "source": [
    "# Adicionando dados na coluna Numero Estado\n",
    "dataframe_tres[\"Numero Estado\"] = np.arange(27) + 1\n",
    "print(dataframe_tres)"
   ]
  },
  {
   "cell_type": "code",
   "execution_count": null,
   "metadata": {},
   "outputs": [],
   "source": [
    "print(dataframe_tres.values, \"\\n \\n\", dataframe_tres[\"População\"].describe())"
   ]
  },
  {
   "cell_type": "code",
   "execution_count": null,
   "metadata": {},
   "outputs": [],
   "source": [
    "print(dataframe_tres[\"População\"] >= 10000000)"
   ]
  },
  {
   "cell_type": "code",
   "execution_count": null,
   "metadata": {},
   "outputs": [],
   "source": [
    "print(dataframe_tres[0:5])"
   ]
  },
  {
   "cell_type": "code",
   "execution_count": null,
   "metadata": {},
   "outputs": [],
   "source": [
    "# Localiza pelo parametro de entrada\n",
    "print(dataframe_tres.loc[10])"
   ]
  },
  {
   "cell_type": "code",
   "execution_count": null,
   "metadata": {},
   "outputs": [],
   "source": [
    "# Localiza pelo Indice\n",
    "print(dataframe_tres.iloc[10])"
   ]
  },
  {
   "cell_type": "code",
   "execution_count": null,
   "metadata": {},
   "outputs": [],
   "source": [
    "dicio_tres = {\"Nome\" : [\"Mu\", \"Aldebaran\", \"Saga\", \"Mascará da Morte\", \"Aiolia\", \"Shaka\", \n",
    "                        \"Dorko\", \"Miro\", \"Aiolos\", \"Shura\", \"Kamus\", \"Afodite\"], \n",
    "              \"Cavaleiro\" : [\"Aries\", \"Touro\", \"Gemios\", \"Cancer\", \"Leao\", \"Virgem\", \n",
    "                             \"Libra\", \"Escopiao\", \"Sagitario\", \"Capriconio\", \"Aquario\", \"Peixes\"],\n",
    "              \"Numero da casa\" : [1, 2, 3, 4, 5, 6, 7, 8, 9, 10, 11, 12]}\n",
    "\n",
    "dataframe_quatro = pd.DataFrame(dicio_tres)\n",
    "print(dataframe_quatro)"
   ]
  },
  {
   "cell_type": "code",
   "execution_count": null,
   "metadata": {},
   "outputs": [],
   "source": [
    "print(dataframe_quatro[\"Cavaleiro\"])"
   ]
  },
  {
   "cell_type": "code",
   "execution_count": null,
   "metadata": {},
   "outputs": [],
   "source": [
    "print(dataframe_quatro[[\"Nome\", \"Cavaleiro\"]])"
   ]
  },
  {
   "cell_type": "code",
   "execution_count": null,
   "metadata": {},
   "outputs": [],
   "source": [
    "print(dataframe_quatro.set_index(\"Numero da casa\"))"
   ]
  },
  {
   "cell_type": "code",
   "execution_count": null,
   "metadata": {},
   "outputs": [],
   "source": [
    "arquivo_csv = '../../cap4/arquivosUsados1/salarios.csv'\n",
    "dframe = pd.read_csv(arquivo_csv)\n",
    "dframe"
   ]
  },
  {
   "cell_type": "code",
   "execution_count": null,
   "metadata": {},
   "outputs": [],
   "source": [
    "tita_dois = pd.read_csv('../../cap4/arquivosUsados1/salarios.csv', names = [\"Nome\",\"Cargo\",\"Departamento\",\"Salario\"])\n",
    "tita_dois\n",
    "# se quiser salvar as alteracoes basta fazer -> tita_dois.to.csv(sys.stdout, sep = \";\")\n",
    "# na parte do -> sep = \";\", voce pode usar qualquer caracter para fazer a separacao"
   ]
  },
  {
   "cell_type": "code",
   "execution_count": null,
   "metadata": {},
   "outputs": [],
   "source": [
    "# -> pd.date_range('20200523', periods = 10), Cria uma usando uma data e uma quantidade de periodos\n",
    "dados_criado = pd.date_range('20200523', periods = 10)\n",
    "# Ejetando dados neste dataframe \n",
    "daframe = pd.DataFrame(np.random.randn(10,4), index = dados_criado, columns = list(\"ABCD\")) \n",
    "daframe"
   ]
  },
  {
   "cell_type": "code",
   "execution_count": null,
   "metadata": {},
   "outputs": [],
   "source": [
    "d_um = pd.DataFrame({\"Chave\" : [\"Chave 1\", \"Chave 2 \"], \"Itens 1\" : [1,3]})\n",
    "d_dois = pd.DataFrame({\"Chave\" : [\"Chave 1\", \"Chave 2 \"], \"Itens 2\" : [2,4]})\n",
    "# merclar dois ou mais dataframes -> pd.merge(dataframe1, dataframe2, on = \"paramentro de juncao\")\n",
    "pd.merge(d_um, d_dois, on = \"Chave\")"
   ]
  },
  {
   "cell_type": "code",
   "execution_count": null,
   "metadata": {},
   "outputs": [],
   "source": [
    "d_tres = pd.DataFrame(np.random.randn(20,4), columns = [\"A\",\"B\",\"C\",\"D\"]) \n",
    "aux_d = d_tres.iloc[3]\n",
    "aux_d"
   ]
  },
  {
   "cell_type": "code",
   "execution_count": null,
   "metadata": {},
   "outputs": [],
   "source": [
    "d_tres.append(aux_d, ignore_index= True)"
   ]
  },
  {
   "cell_type": "code",
   "execution_count": null,
   "metadata": {},
   "outputs": [],
   "source": [
    "# TIME SERIES\n",
    "# freq = \"M\" é a frequencia por mes, S = segundos, Y = anos e etc...\n",
    "dt = pd.date_range('23/05/2020', periods = 50, freq = \"S\")\n",
    "# Alimentando a a serie temporal com elementos randomicos \n",
    "dados_ts = pd.Series(np.random.randint(-100, 100, len(dt)), index = dt) \n",
    "dados_ts"
   ]
  },
  {
   "cell_type": "code",
   "execution_count": null,
   "metadata": {},
   "outputs": [],
   "source": [
    "dt_dois = pd.date_range('23/05/2020', periods = 50, freq = \"M\")\n",
    "# Alimentando a a serie temporal com elementos randomicos \n",
    "dados_ts_dois = pd.DataFrame(np.random.randn(len(dt_dois)), index = dt_dois) \n",
    "dados_ts_dois"
   ]
  },
  {
   "cell_type": "code",
   "execution_count": null,
   "metadata": {},
   "outputs": [],
   "source": [
    "# Plotting\n",
    "%matplotlib inline\n",
    "dados_ts_tres = pd.Series(np.random.randn(100), index = pd.date_range('23/05/2020', periods = 100))\n",
    "dados_ts_tres = dados_ts_tres.cumsum()\n",
    "dados_ts_tres.plot()"
   ]
  },
  {
   "cell_type": "code",
   "execution_count": null,
   "metadata": {},
   "outputs": [],
   "source": [
    "dados_df_tres = pd.DataFrame(np.random.randn(100, 4), index = dados_ts_tres.index, columns = [\"WARNER BROS\",\n",
    "                                                                                              \"UNIVERSAL PICTURES\",\n",
    "                                                                                              \"COLUMBIA/SONY\",\n",
    "                                                                                              \"20TH CENTURY FOX\"])\n",
    "dados_df_tres = dados_df_tres.cumsum()\n",
    "plt.figure; dados_df_tres.plot()"
   ]
  },
  {
   "cell_type": "code",
   "execution_count": null,
   "metadata": {},
   "outputs": [],
   "source": [
    "# Outuput\n",
    "#dados_df_tres.to_excel('arq-studio.xlsx', sheet_name = \"Sheet1\")\n",
    "dados_df_tres.to_excel('arq_studio.xlsx', sheet_name='Sheet1')"
   ]
  },
  {
   "cell_type": "code",
   "execution_count": null,
   "metadata": {},
   "outputs": [],
   "source": [
    "novo_arq = pd.read_excel('arq_studio.xlsx', 'Sheet1', index_col = None, na_values=[\"NA\"])\n",
    "#novo_arq = pd.read_excel('../arquivos/arq_studio.xlsx', 'Sheet1', index_col = None, na_values = ['NA'])"
   ]
  },
  {
   "cell_type": "code",
   "execution_count": null,
   "metadata": {},
   "outputs": [],
   "source": [
    "novo_arq.head()"
   ]
  },
  {
   "cell_type": "code",
   "execution_count": null,
   "metadata": {},
   "outputs": [],
   "source": [
    "os.remove('arq_studio.xlsx')"
   ]
  },
  {
   "cell_type": "code",
   "execution_count": null,
   "metadata": {},
   "outputs": [],
   "source": []
  }
 ],
 "metadata": {
  "kernelspec": {
   "display_name": "Python 3",
   "language": "python",
   "name": "python3"
  },
  "language_info": {
   "codemirror_mode": {
    "name": "ipython",
    "version": 3
   },
   "file_extension": ".py",
   "mimetype": "text/x-python",
   "name": "python",
   "nbconvert_exporter": "python",
   "pygments_lexer": "ipython3",
   "version": "3.7.7"
  }
 },
 "nbformat": 4,
 "nbformat_minor": 4
}
