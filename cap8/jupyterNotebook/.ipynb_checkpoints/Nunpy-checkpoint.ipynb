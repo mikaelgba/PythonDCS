{
 "cells": [
  {
   "cell_type": "code",
   "execution_count": 1,
   "metadata": {},
   "outputs": [],
   "source": [
    "import numpy as np\n",
    "import matplotlib.pyplot as plt\n",
    "import os"
   ]
  },
  {
   "cell_type": "code",
   "execution_count": 2,
   "metadata": {},
   "outputs": [
    {
     "name": "stdout",
     "output_type": "stream",
     "text": [
      "Help on built-in function array in module numpy:\n",
      "\n",
      "array(...)\n",
      "    array(object, dtype=None, copy=True, order='K', subok=False, ndmin=0)\n",
      "    \n",
      "    Create an array.\n",
      "    \n",
      "    Parameters\n",
      "    ----------\n",
      "    object : array_like\n",
      "        An array, any object exposing the array interface, an object whose\n",
      "        __array__ method returns an array, or any (nested) sequence.\n",
      "    dtype : data-type, optional\n",
      "        The desired data-type for the array.  If not given, then the type will\n",
      "        be determined as the minimum type required to hold the objects in the\n",
      "        sequence.\n",
      "    copy : bool, optional\n",
      "        If true (default), then the object is copied.  Otherwise, a copy will\n",
      "        only be made if __array__ returns a copy, if obj is a nested sequence,\n",
      "        or if a copy is needed to satisfy any of the other requirements\n",
      "        (`dtype`, `order`, etc.).\n",
      "    order : {'K', 'A', 'C', 'F'}, optional\n",
      "        Specify the memory layout of the array. If object is not an array, the\n",
      "        newly created array will be in C order (row major) unless 'F' is\n",
      "        specified, in which case it will be in Fortran order (column major).\n",
      "        If object is an array the following holds.\n",
      "    \n",
      "        ===== ========= ===================================================\n",
      "        order  no copy                     copy=True\n",
      "        ===== ========= ===================================================\n",
      "        'K'   unchanged F & C order preserved, otherwise most similar order\n",
      "        'A'   unchanged F order if input is F and not C, otherwise C order\n",
      "        'C'   C order   C order\n",
      "        'F'   F order   F order\n",
      "        ===== ========= ===================================================\n",
      "    \n",
      "        When ``copy=False`` and a copy is made for other reasons, the result is\n",
      "        the same as if ``copy=True``, with some exceptions for `A`, see the\n",
      "        Notes section. The default order is 'K'.\n",
      "    subok : bool, optional\n",
      "        If True, then sub-classes will be passed-through, otherwise\n",
      "        the returned array will be forced to be a base-class array (default).\n",
      "    ndmin : int, optional\n",
      "        Specifies the minimum number of dimensions that the resulting\n",
      "        array should have.  Ones will be pre-pended to the shape as\n",
      "        needed to meet this requirement.\n",
      "    \n",
      "    Returns\n",
      "    -------\n",
      "    out : ndarray\n",
      "        An array object satisfying the specified requirements.\n",
      "    \n",
      "    See Also\n",
      "    --------\n",
      "    empty_like : Return an empty array with shape and type of input.\n",
      "    ones_like : Return an array of ones with shape and type of input.\n",
      "    zeros_like : Return an array of zeros with shape and type of input.\n",
      "    full_like : Return a new array with shape of input filled with value.\n",
      "    empty : Return a new uninitialized array.\n",
      "    ones : Return a new array setting values to one.\n",
      "    zeros : Return a new array setting values to zero.\n",
      "    full : Return a new array of given shape filled with value.\n",
      "    \n",
      "    \n",
      "    Notes\n",
      "    -----\n",
      "    When order is 'A' and `object` is an array in neither 'C' nor 'F' order,\n",
      "    and a copy is forced by a change in dtype, then the order of the result is\n",
      "    not necessarily 'C' as expected. This is likely a bug.\n",
      "    \n",
      "    Examples\n",
      "    --------\n",
      "    >>> np.array([1, 2, 3])\n",
      "    array([1, 2, 3])\n",
      "    \n",
      "    Upcasting:\n",
      "    \n",
      "    >>> np.array([1, 2, 3.0])\n",
      "    array([ 1.,  2.,  3.])\n",
      "    \n",
      "    More than one dimension:\n",
      "    \n",
      "    >>> np.array([[1, 2], [3, 4]])\n",
      "    array([[1, 2],\n",
      "           [3, 4]])\n",
      "    \n",
      "    Minimum dimensions 2:\n",
      "    \n",
      "    >>> np.array([1, 2, 3], ndmin=2)\n",
      "    array([[1, 2, 3]])\n",
      "    \n",
      "    Type provided:\n",
      "    \n",
      "    >>> np.array([1, 2, 3], dtype=complex)\n",
      "    array([ 1.+0.j,  2.+0.j,  3.+0.j])\n",
      "    \n",
      "    Data-type consisting of more than one element:\n",
      "    \n",
      "    >>> x = np.array([(1,2),(3,4)],dtype=[('a','<i4'),('b','<i4')])\n",
      "    >>> x['a']\n",
      "    array([1, 3])\n",
      "    \n",
      "    Creating an array from sub-classes:\n",
      "    \n",
      "    >>> np.array(np.mat('1 2; 3 4'))\n",
      "    array([[1, 2],\n",
      "           [3, 4]])\n",
      "    \n",
      "    >>> np.array(np.mat('1 2; 3 4'), subok=True)\n",
      "    matrix([[1, 2],\n",
      "            [3, 4]])\n",
      "\n"
     ]
    }
   ],
   "source": [
    "#np.__version__\n",
    "help(np.array)"
   ]
  },
  {
   "cell_type": "code",
   "execution_count": 3,
   "metadata": {},
   "outputs": [
    {
     "name": "stdout",
     "output_type": "stream",
     "text": [
      "[1 2 3 4 5 6 7 8 9]\n"
     ]
    }
   ],
   "source": [
    "#Arraycriado apartir de uma lista, podem ser, int, float, boolean, operações de numeros complexos e etc...\n",
    "array= np.array([1,2,3,4,5,6,7,8,9])\n",
    "print(array)"
   ]
  },
  {
   "cell_type": "code",
   "execution_count": 4,
   "metadata": {},
   "outputs": [
    {
     "data": {
      "text/plain": [
       "array([ 1,  3,  6, 10, 15, 21, 28, 36, 45], dtype=int32)"
      ]
     },
     "execution_count": 4,
     "metadata": {},
     "output_type": "execute_result"
    }
   ],
   "source": [
    "#func soma acumulada\n",
    "array.cumsum()"
   ]
  },
  {
   "cell_type": "code",
   "execution_count": 5,
   "metadata": {},
   "outputs": [
    {
     "data": {
      "text/plain": [
       "(9,)"
      ]
     },
     "execution_count": 5,
     "metadata": {},
     "output_type": "execute_result"
    }
   ],
   "source": [
    "array.shape"
   ]
  },
  {
   "cell_type": "code",
   "execution_count": 6,
   "metadata": {},
   "outputs": [
    {
     "name": "stdout",
     "output_type": "stream",
     "text": [
      "[0 1 2 3 4 5 6 7 8 9]\n"
     ]
    }
   ],
   "source": [
    "array_dois = np.arange(0,10,1)\n",
    "print(array_dois)"
   ]
  },
  {
   "cell_type": "code",
   "execution_count": 7,
   "metadata": {},
   "outputs": [
    {
     "data": {
      "text/plain": [
       "(10,)"
      ]
     },
     "execution_count": 7,
     "metadata": {},
     "output_type": "execute_result"
    }
   ],
   "source": [
    "array_dois.shape"
   ]
  },
  {
   "cell_type": "code",
   "execution_count": 8,
   "metadata": {},
   "outputs": [
    {
     "name": "stdout",
     "output_type": "stream",
     "text": [
      "[0.   0.25 0.5  0.75 1.   1.25 1.5  1.75 2.   2.25 2.5  2.75 3.   3.25\n",
      " 3.5  3.75 4.   4.25 4.5  4.75 5.   5.25 5.5  5.75 6.   6.25 6.5  6.75\n",
      " 7.   7.25 7.5  7.75 8.   8.25 8.5  8.75 9.   9.25 9.5  9.75]\n"
     ]
    }
   ],
   "source": [
    "array_tres = np.arange(0,10,0.25)\n",
    "print(array_tres)"
   ]
  },
  {
   "cell_type": "code",
   "execution_count": 9,
   "metadata": {},
   "outputs": [
    {
     "name": "stdout",
     "output_type": "stream",
     "text": [
      "[0. 0. 0. 0. 0. 0. 0. 0. 0. 0.]\n"
     ]
    }
   ],
   "source": [
    "#vai ser util nem Machine learn e deep learn\n",
    "print(np.zeros(10))"
   ]
  },
  {
   "cell_type": "code",
   "execution_count": 10,
   "metadata": {},
   "outputs": [
    {
     "name": "stdout",
     "output_type": "stream",
     "text": [
      "[[1. 0. 0. 0. 0. 0. 0. 0. 0. 0.]\n",
      " [0. 1. 0. 0. 0. 0. 0. 0. 0. 0.]\n",
      " [0. 0. 1. 0. 0. 0. 0. 0. 0. 0.]\n",
      " [0. 0. 0. 1. 0. 0. 0. 0. 0. 0.]\n",
      " [0. 0. 0. 0. 1. 0. 0. 0. 0. 0.]\n",
      " [0. 0. 0. 0. 0. 1. 0. 0. 0. 0.]\n",
      " [0. 0. 0. 0. 0. 0. 1. 0. 0. 0.]\n",
      " [0. 0. 0. 0. 0. 0. 0. 1. 0. 0.]\n",
      " [0. 0. 0. 0. 0. 0. 0. 0. 1. 0.]\n",
      " [0. 0. 0. 0. 0. 0. 0. 0. 0. 1.]]\n"
     ]
    }
   ],
   "source": [
    "#Cria uma matriz principal\n",
    "array_quatro = np.eye(10)\n",
    "print(array_quatro)"
   ]
  },
  {
   "cell_type": "code",
   "execution_count": 11,
   "metadata": {},
   "outputs": [
    {
     "name": "stdout",
     "output_type": "stream",
     "text": [
      "[[1 0 0 0]\n",
      " [0 2 0 0]\n",
      " [0 0 3 0]\n",
      " [0 0 0 4]]\n"
     ]
    }
   ],
   "source": [
    "#Cria uma matriz principal recebedo um array de entrada\n",
    "array_cinco = np.diag(np.array([1,2,3,4]))\n",
    "print(array_cinco)"
   ]
  },
  {
   "cell_type": "code",
   "execution_count": 12,
   "metadata": {},
   "outputs": [
    {
     "name": "stdout",
     "output_type": "stream",
     "text": [
      "[ 0.          0.20408163  0.40816327  0.6122449   0.81632653  1.02040816\n",
      "  1.2244898   1.42857143  1.63265306  1.83673469  2.04081633  2.24489796\n",
      "  2.44897959  2.65306122  2.85714286  3.06122449  3.26530612  3.46938776\n",
      "  3.67346939  3.87755102  4.08163265  4.28571429  4.48979592  4.69387755\n",
      "  4.89795918  5.10204082  5.30612245  5.51020408  5.71428571  5.91836735\n",
      "  6.12244898  6.32653061  6.53061224  6.73469388  6.93877551  7.14285714\n",
      "  7.34693878  7.55102041  7.75510204  7.95918367  8.16326531  8.36734694\n",
      "  8.57142857  8.7755102   8.97959184  9.18367347  9.3877551   9.59183673\n",
      "  9.79591837 10.        ]\n"
     ]
    }
   ],
   "source": [
    "print(np.linspace(0,10))"
   ]
  },
  {
   "cell_type": "code",
   "execution_count": 13,
   "metadata": {},
   "outputs": [
    {
     "name": "stdout",
     "output_type": "stream",
     "text": [
      "[ 0.          0.71428571  1.42857143  2.14285714  2.85714286  3.57142857\n",
      "  4.28571429  5.          5.71428571  6.42857143  7.14285714  7.85714286\n",
      "  8.57142857  9.28571429 10.        ]\n"
     ]
    }
   ],
   "source": [
    "print(np.linspace(0,10,15))"
   ]
  },
  {
   "cell_type": "code",
   "execution_count": 14,
   "metadata": {},
   "outputs": [
    {
     "name": "stdout",
     "output_type": "stream",
     "text": [
      "[1.00000000e+00 3.59381366e+00 1.29154967e+01 4.64158883e+01\n",
      " 1.66810054e+02 5.99484250e+02 2.15443469e+03 7.74263683e+03\n",
      " 2.78255940e+04 1.00000000e+05]\n"
     ]
    }
   ],
   "source": [
    "print(np.logspace(0,5,10))"
   ]
  },
  {
   "cell_type": "markdown",
   "metadata": {},
   "source": [
    "matriz_um = np.array([1,2,3],[4,5,6],[7,8,9])\n",
    "print(matriz_um)"
   ]
  },
  {
   "cell_type": "code",
   "execution_count": 15,
   "metadata": {},
   "outputs": [
    {
     "name": "stdout",
     "output_type": "stream",
     "text": [
      "[[1 2 3]\n",
      " [4 5 6]\n",
      " [7 8 9]]\n"
     ]
    }
   ],
   "source": [
    "#Matriz 3 por 3\n",
    "matriz_um = np.array([[1,2,3],[4,5,6],[7,8,9]])\n",
    "print(matriz_um)"
   ]
  },
  {
   "cell_type": "code",
   "execution_count": 16,
   "metadata": {},
   "outputs": [
    {
     "name": "stdout",
     "output_type": "stream",
     "text": [
      "(3, 3)\n"
     ]
    }
   ],
   "source": [
    "print(matriz_um.shape)"
   ]
  },
  {
   "cell_type": "code",
   "execution_count": 17,
   "metadata": {},
   "outputs": [],
   "source": [
    "lista_aux = [[10,58,57],[25,34,69],[80,42,21]]"
   ]
  },
  {
   "cell_type": "code",
   "execution_count": 18,
   "metadata": {},
   "outputs": [
    {
     "name": "stdout",
     "output_type": "stream",
     "text": [
      "[[10 58 57]\n",
      " [25 34 69]\n",
      " [80 42 21]]\n"
     ]
    }
   ],
   "source": [
    "matriz_dois = np.matrix(lista_aux)\n",
    "print(matriz_dois)"
   ]
  },
  {
   "cell_type": "code",
   "execution_count": 19,
   "metadata": {},
   "outputs": [
    {
     "name": "stdout",
     "output_type": "stream",
     "text": [
      "9\n"
     ]
    }
   ],
   "source": [
    "print(matriz_dois.size)"
   ]
  },
  {
   "cell_type": "code",
   "execution_count": 20,
   "metadata": {},
   "outputs": [
    {
     "name": "stdout",
     "output_type": "stream",
     "text": [
      "4 \n",
      "\n"
     ]
    }
   ],
   "source": [
    "print(matriz_dois.itemsize, \"\\n\")"
   ]
  },
  {
   "cell_type": "code",
   "execution_count": 21,
   "metadata": {},
   "outputs": [
    {
     "name": "stdout",
     "output_type": "stream",
     "text": [
      "int32 float64 int32 float64\n"
     ]
    }
   ],
   "source": [
    "#np pega o tipo da entrada, mas np decida o tipo que vai ser\n",
    "#mas é possivivel alterrar o tipo para um desejado, -> dtype = np.float64 ou -> dtype = np.int32\n",
    "w = np.array([1,2])\n",
    "x = np.array([1.0,2.0])\n",
    "y = np.array([1.0,2.0], dtype = np.int32)\n",
    "z = np.array([1,2], dtype = np.float64)\n",
    "print(w.dtype, x.dtype, y.dtype, z.dtype)"
   ]
  },
  {
   "cell_type": "code",
   "execution_count": 22,
   "metadata": {},
   "outputs": [
    {
     "name": "stdout",
     "output_type": "stream",
     "text": [
      "[0.01233813 0.35327196 0.53282598 0.62611389 0.71426976 0.4861435\n",
      " 0.60320851 0.15522954 0.95448209 0.93688188]\n"
     ]
    }
   ],
   "source": [
    "print(np.random.rand(10))"
   ]
  },
  {
   "cell_type": "code",
   "execution_count": 23,
   "metadata": {},
   "outputs": [
    {
     "data": {
      "image/png": "[encoded data removed]",
      "text/plain": [
       "<Figure size 432x288 with 1 Axes>"
      ]
     },
     "metadata": {
      "needs_background": "light"
     },
     "output_type": "display_data"
    }
   ],
   "source": [
    "# Usando o matplotlib para fazer uma visualizacao com valores randomicos\n",
    "plt.show((plt.hist(np.random.rand(1000))))"
   ]
  },
  {
   "cell_type": "code",
   "execution_count": 24,
   "metadata": {},
   "outputs": [
    {
     "data": {
      "image/png": "[encoded data removed]",
      "text/plain": [
       "<Figure size 432x288 with 1 Axes>"
      ]
     },
     "metadata": {
      "needs_background": "light"
     },
     "output_type": "display_data"
    }
   ],
   "source": [
    "# visualizacao com valores randomicos com base na distribuicao dos valores\n",
    "plt.show((plt.hist(np.random.randn(1000))))"
   ]
  },
  {
   "cell_type": "code",
   "execution_count": 25,
   "metadata": {},
   "outputs": [
    {
     "data": {
      "text/plain": [
       "<matplotlib.colorbar.Colorbar at 0x8d3acd0>"
      ]
     },
     "execution_count": 25,
     "metadata": {},
     "output_type": "execute_result"
    },
    {
     "data": {
      "image/png": "[encoded data removed]",
      "text/plain": [
       "<Figure size 432x288 with 2 Axes>"
      ]
     },
     "metadata": {
      "needs_background": "light"
     },
     "output_type": "display_data"
    }
   ],
   "source": [
    "imagem = np.random.rand(30,30)\n",
    "plt.imshow(imagem, cmap = plt.cm.hot)\n",
    "plt.colorbar()"
   ]
  },
  {
   "cell_type": "code",
   "execution_count": 26,
   "metadata": {},
   "outputs": [
    {
     "name": "stdout",
     "output_type": "stream",
     "text": [
      "[[5.1 3.5 1.4 0.2]\n",
      " [4.9 3.  1.4 0.2]\n",
      " [4.7 3.2 1.3 0.2]\n",
      " [4.6 3.1 1.5 0.2]\n",
      " [5.  3.6 1.4 0.2]\n",
      " [5.4 3.9 1.7 0.4]\n",
      " [4.6 3.4 1.4 0.3]\n",
      " [5.  3.4 1.5 0.2]\n",
      " [4.4 2.9 1.4 0.2]\n",
      " [4.9 3.1 1.5 0.1]\n",
      " [5.4 3.7 1.5 0.2]\n",
      " [4.8 3.4 1.6 0.2]\n",
      " [4.8 3.  1.4 0.1]\n",
      " [4.3 3.  1.1 0.1]\n",
      " [5.8 4.  1.2 0.2]\n",
      " [5.7 4.4 1.5 0.4]\n",
      " [5.4 3.9 1.3 0.4]\n",
      " [5.1 3.5 1.4 0.3]\n",
      " [5.7 3.8 1.7 0.3]\n",
      " [5.1 3.8 1.5 0.3]\n",
      " [5.4 3.4 1.7 0.2]\n",
      " [5.1 3.7 1.5 0.4]\n",
      " [4.6 3.6 1.  0.2]\n",
      " [5.1 3.3 1.7 0.5]\n",
      " [4.8 3.4 1.9 0.2]\n",
      " [5.  3.  1.6 0.2]\n",
      " [5.  3.4 1.6 0.4]\n",
      " [5.2 3.5 1.5 0.2]\n",
      " [5.2 3.4 1.4 0.2]\n",
      " [4.7 3.2 1.6 0.2]\n",
      " [4.8 3.1 1.6 0.2]\n",
      " [5.4 3.4 1.5 0.4]\n",
      " [5.2 4.1 1.5 0.1]\n",
      " [5.5 4.2 1.4 0.2]\n",
      " [4.9 3.1 1.5 0.1]\n",
      " [5.  3.2 1.2 0.2]\n",
      " [5.5 3.5 1.3 0.2]\n",
      " [4.9 3.1 1.5 0.1]\n",
      " [4.4 3.  1.3 0.2]\n",
      " [5.1 3.4 1.5 0.2]\n",
      " [5.  3.5 1.3 0.3]\n",
      " [4.5 2.3 1.3 0.3]\n",
      " [4.4 3.2 1.3 0.2]\n",
      " [5.  3.5 1.6 0.6]\n",
      " [5.1 3.8 1.9 0.4]\n",
      " [4.8 3.  1.4 0.3]\n",
      " [5.1 3.8 1.6 0.2]\n",
      " [4.6 3.2 1.4 0.2]\n",
      " [5.3 3.7 1.5 0.2]\n",
      " [5.  3.3 1.4 0.2]\n",
      " [7.  3.2 4.7 1.4]\n",
      " [6.4 3.2 4.5 1.5]\n",
      " [6.9 3.1 4.9 1.5]\n",
      " [5.5 2.3 4.  1.3]\n",
      " [6.5 2.8 4.6 1.5]\n",
      " [5.7 2.8 4.5 1.3]\n",
      " [6.3 3.3 4.7 1.6]\n",
      " [4.9 2.4 3.3 1. ]\n",
      " [6.6 2.9 4.6 1.3]\n",
      " [5.2 2.7 3.9 1.4]\n",
      " [5.  2.  3.5 1. ]\n",
      " [5.9 3.  4.2 1.5]\n",
      " [6.  2.2 4.  1. ]\n",
      " [6.1 2.9 4.7 1.4]\n",
      " [5.6 2.9 3.6 1.3]\n",
      " [6.7 3.1 4.4 1.4]\n",
      " [5.6 3.  4.5 1.5]\n",
      " [5.8 2.7 4.1 1. ]\n",
      " [6.2 2.2 4.5 1.5]\n",
      " [5.6 2.5 3.9 1.1]\n",
      " [5.9 3.2 4.8 1.8]\n",
      " [6.1 2.8 4.  1.3]\n",
      " [6.3 2.5 4.9 1.5]\n",
      " [6.1 2.8 4.7 1.2]\n",
      " [6.4 2.9 4.3 1.3]\n",
      " [6.6 3.  4.4 1.4]\n",
      " [6.8 2.8 4.8 1.4]\n",
      " [6.7 3.  5.  1.7]\n",
      " [6.  2.9 4.5 1.5]\n",
      " [5.7 2.6 3.5 1. ]\n",
      " [5.5 2.4 3.8 1.1]\n",
      " [5.5 2.4 3.7 1. ]\n",
      " [5.8 2.7 3.9 1.2]\n",
      " [6.  2.7 5.1 1.6]\n",
      " [5.4 3.  4.5 1.5]\n",
      " [6.  3.4 4.5 1.6]\n",
      " [6.7 3.1 4.7 1.5]\n",
      " [6.3 2.3 4.4 1.3]\n",
      " [5.6 3.  4.1 1.3]\n",
      " [5.5 2.5 4.  1.3]\n",
      " [5.5 2.6 4.4 1.2]\n",
      " [6.1 3.  4.6 1.4]\n",
      " [5.8 2.6 4.  1.2]\n",
      " [5.  2.3 3.3 1. ]\n",
      " [5.6 2.7 4.2 1.3]\n",
      " [5.7 3.  4.2 1.2]\n",
      " [5.7 2.9 4.2 1.3]\n",
      " [6.2 2.9 4.3 1.3]\n",
      " [5.1 2.5 3.  1.1]\n",
      " [5.7 2.8 4.1 1.3]\n",
      " [6.3 3.3 6.  2.5]\n",
      " [5.8 2.7 5.1 1.9]\n",
      " [7.1 3.  5.9 2.1]\n",
      " [6.3 2.9 5.6 1.8]\n",
      " [6.5 3.  5.8 2.2]\n",
      " [7.6 3.  6.6 2.1]\n",
      " [4.9 2.5 4.5 1.7]\n",
      " [7.3 2.9 6.3 1.8]\n",
      " [6.7 2.5 5.8 1.8]\n",
      " [7.2 3.6 6.1 2.5]\n",
      " [6.5 3.2 5.1 2. ]\n",
      " [6.4 2.7 5.3 1.9]\n",
      " [6.8 3.  5.5 2.1]\n",
      " [5.7 2.5 5.  2. ]\n",
      " [5.8 2.8 5.1 2.4]\n",
      " [6.4 3.2 5.3 2.3]\n",
      " [6.5 3.  5.5 1.8]\n",
      " [7.7 3.8 6.7 2.2]\n",
      " [7.7 2.6 6.9 2.3]\n",
      " [6.  2.2 5.  1.5]\n",
      " [6.9 3.2 5.7 2.3]\n",
      " [5.6 2.8 4.9 2. ]\n",
      " [7.7 2.8 6.7 2. ]\n",
      " [6.3 2.7 4.9 1.8]\n",
      " [6.7 3.3 5.7 2.1]\n",
      " [7.2 3.2 6.  1.8]\n",
      " [6.2 2.8 4.8 1.8]\n",
      " [6.1 3.  4.9 1.8]\n",
      " [6.4 2.8 5.6 2.1]\n",
      " [7.2 3.  5.8 1.6]\n",
      " [7.4 2.8 6.1 1.9]\n",
      " [7.9 3.8 6.4 2. ]\n",
      " [6.4 2.8 5.6 2.2]\n",
      " [6.3 2.8 5.1 1.5]\n",
      " [6.1 2.6 5.6 1.4]\n",
      " [7.7 3.  6.1 2.3]\n",
      " [6.3 3.4 5.6 2.4]\n",
      " [6.4 3.1 5.5 1.8]\n",
      " [6.  3.  4.8 1.8]\n",
      " [6.9 3.1 5.4 2.1]\n",
      " [6.7 3.1 5.6 2.4]\n",
      " [6.9 3.1 5.1 2.3]\n",
      " [5.8 2.7 5.1 1.9]\n",
      " [6.8 3.2 5.9 2.3]\n",
      " [6.7 3.3 5.7 2.5]\n",
      " [6.7 3.  5.2 2.3]\n",
      " [6.3 2.5 5.  1.9]\n",
      " [6.5 3.  5.2 2. ]\n",
      " [6.2 3.4 5.4 2.3]\n",
      " [5.9 3.  5.1 1.8]]\n"
     ]
    },
    {
     "name": "stderr",
     "output_type": "stream",
     "text": [
      "NÆo ‚ poss¡vel o acesso ao arquivo G:\\Projetos Programa‡Æo\\PythonDSA\\cap8\\jupyterNotebook\\iris.csv\n"
     ]
    }
   ],
   "source": [
    "nome = os.path.join(\"../arquivos/iris.csv\")\n",
    "# !more Windows, Linux ou Mac !Head, ambos so funcionam no Jupyter\n",
    "!more iris.csv\n",
    "leitura = np.loadtxt(nome, delimiter = \",\", usecols = [0,1,2,3], skiprows = 1)\n",
    "print(leitura)"
   ]
  },
  {
   "cell_type": "code",
   "execution_count": 27,
   "metadata": {},
   "outputs": [
    {
     "data": {
      "image/png": "[encoded data removed]",
      "text/plain": [
       "<Figure size 432x288 with 1 Axes>"
      ]
     },
     "metadata": {
      "needs_background": "light"
     },
     "output_type": "display_data"
    }
   ],
   "source": [
    "leitura_uma, leittura_dois = np.loadtxt(nome, delimiter = \",\", usecols = [0,1], skiprows = 1, unpack = True)\n",
    "plt.show(plt.plot(leitura_uma, leittura_dois, \"o\", markersize = 8, alpha = 0.75))"
   ]
  },
  {
   "cell_type": "code",
   "execution_count": 28,
   "metadata": {},
   "outputs": [],
   "source": [
    "array_aux = np.array([10,52,67,41])"
   ]
  },
  {
   "cell_type": "code",
   "execution_count": 29,
   "metadata": {},
   "outputs": [
    {
     "name": "stdout",
     "output_type": "stream",
     "text": [
      "42.5\n"
     ]
    }
   ],
   "source": [
    "# Media dos valores do array\n",
    "print(np.mean(array_aux))"
   ]
  },
  {
   "cell_type": "code",
   "execution_count": 30,
   "metadata": {},
   "outputs": [
    {
     "name": "stdout",
     "output_type": "stream",
     "text": [
      "20.910523666326483\n"
     ]
    }
   ],
   "source": [
    "# Desvio padrao dos valores do array\n",
    "print(np.std(array_aux))"
   ]
  },
  {
   "cell_type": "code",
   "execution_count": 31,
   "metadata": {},
   "outputs": [
    {
     "name": "stdout",
     "output_type": "stream",
     "text": [
      "437.25\n"
     ]
    }
   ],
   "source": [
    "# variancia dos valores do array\n",
    "print(np.var(array_aux))"
   ]
  },
  {
   "cell_type": "code",
   "execution_count": 32,
   "metadata": {},
   "outputs": [
    {
     "name": "stdout",
     "output_type": "stream",
     "text": [
      "45\n"
     ]
    }
   ],
   "source": [
    "# soma dos elementos dentro do array\n",
    "array_aux2 = np.arange(1,10)\n",
    "print(np.sum(array_aux2))"
   ]
  },
  {
   "cell_type": "code",
   "execution_count": 33,
   "metadata": {},
   "outputs": [
    {
     "name": "stdout",
     "output_type": "stream",
     "text": [
      "[ 1  3  6 10 15 21 28 36 45]\n"
     ]
    }
   ],
   "source": [
    "# soma acumulada dos elementos dentro do array\n",
    "print(np.cumsum(array_aux2))"
   ]
  },
  {
   "cell_type": "code",
   "execution_count": 34,
   "metadata": {},
   "outputs": [
    {
     "name": "stdout",
     "output_type": "stream",
     "text": [
      "362880\n"
     ]
    }
   ],
   "source": [
    "# retorna o produto dos  elementos dentro do array\n",
    "print(np.prod(array_aux2))"
   ]
  },
  {
   "cell_type": "code",
   "execution_count": 35,
   "metadata": {},
   "outputs": [
    {
     "name": "stdout",
     "output_type": "stream",
     "text": [
      "[[-1.16031726  0.3390804 ]\n",
      " [ 0.99848272 -1.41003954]\n",
      " [-0.87560929 -0.7799072 ]\n",
      " [ 1.12092727 -0.07839499]\n",
      " [-0.52307881 -0.1678203 ]\n",
      " [-0.09279284  0.81141343]\n",
      " [ 0.40447009 -0.89234995]\n",
      " [ 0.29656725 -1.39479102]\n",
      " [-0.45151678 -1.27482915]\n",
      " [-2.47012947 -1.48584242]\n",
      " [-0.19007929 -1.88070418]\n",
      " [-0.32281494 -0.01007929]\n",
      " [-0.59223812  0.94588803]\n",
      " [-0.88884278 -1.38841842]\n",
      " [ 1.121697   -0.52312228]\n",
      " [-0.37116267 -2.65939821]\n",
      " [ 1.42195172 -0.83793167]\n",
      " [ 1.04992572 -0.18775464]\n",
      " [-0.18091619  0.45613205]\n",
      " [ 0.06140167 -0.20765554]\n",
      " [-0.232559   -0.275581  ]\n",
      " [ 0.2887871   0.77446018]\n",
      " [-0.40795164 -0.27315073]\n",
      " [ 1.71199999  1.04430523]\n",
      " [ 0.91843312 -0.84609653]\n",
      " [ 1.02442101 -0.80869686]\n",
      " [-1.5201928   0.5537146 ]\n",
      " [ 0.10975973 -1.11584668]\n",
      " [-0.74016975  0.458816  ]\n",
      " [ 0.07871914  0.05604494]\n",
      " [-2.19595929  0.37099777]\n",
      " [-0.18617547  2.03117436]\n",
      " [-0.77229819 -1.63673208]\n",
      " [ 0.86869029  0.12674231]\n",
      " [ 0.25572495  0.36675916]\n",
      " [ 0.74822006  0.32422452]\n",
      " [ 1.70164335 -1.09220261]\n",
      " [-1.06224024  0.4105897 ]\n",
      " [ 2.91363665 -1.11271151]\n",
      " [-0.75175812  0.74019401]\n",
      " [-1.62060946 -0.24827692]\n",
      " [-0.21594987  1.02233106]\n",
      " [-0.5612763   1.29690579]\n",
      " [-0.65564972  0.39041022]\n",
      " [-0.00486851  0.80390342]\n",
      " [-0.75620725  0.57280097]\n",
      " [ 1.41624312  1.91227513]\n",
      " [ 1.18253792  0.09094735]\n",
      " [ 0.76182984 -1.16807847]\n",
      " [-0.6033064   0.34599657]\n",
      " [ 0.01607736 -0.50534971]\n",
      " [ 0.65714226 -0.40613897]\n",
      " [-0.50182991  0.52662695]\n",
      " [ 1.70154448 -1.11234611]\n",
      " [-0.92057769  0.09038881]\n",
      " [-1.0762293  -0.02013024]\n",
      " [-0.95354867 -0.00331559]\n",
      " [ 0.71660686 -0.92203065]\n",
      " [-0.84897227 -1.46755753]\n",
      " [ 1.37546195 -0.02056854]\n",
      " [-1.38156725  0.8648132 ]\n",
      " [ 0.01351133 -0.94777637]\n",
      " [-0.56146271  1.64960052]\n",
      " [ 0.24278174 -0.38479077]\n",
      " [-1.95493385 -0.26881145]\n",
      " [ 0.01104532  2.18847998]\n",
      " [ 0.36093712 -1.89262609]\n",
      " [ 0.85264514  0.99971342]\n",
      " [-1.34743503 -0.70152663]\n",
      " [ 0.32877375 -0.7479757 ]\n",
      " [-2.08095064  1.4646795 ]\n",
      " [ 0.97823769 -0.32226749]\n",
      " [ 0.48643962  0.87983585]\n",
      " [ 1.56874847 -0.24598126]\n",
      " [ 0.21530599  0.7798937 ]\n",
      " [ 0.03646246 -1.08741237]\n",
      " [ 1.0053912   0.98877068]\n",
      " [ 0.29759567  0.09643783]\n",
      " [-0.49423699 -1.62375844]\n",
      " [-0.77769253  0.46273907]\n",
      " [-0.11111389 -0.94696741]\n",
      " [ 0.12266694  0.28809065]\n",
      " [-0.28607402  0.22118879]\n",
      " [ 0.56668331  0.33459609]\n",
      " [ 0.61053603 -1.30393096]\n",
      " [-0.77980454 -0.29038894]\n",
      " [-0.870695   -0.61117619]\n",
      " [-0.46094145  0.25133531]\n",
      " [-0.38793615 -0.80994276]\n",
      " [-0.20945458 -1.76650266]\n",
      " [-0.81745117  0.13580256]\n",
      " [ 0.15974952  2.52278352]\n",
      " [ 0.08861245 -0.22019096]\n",
      " [-1.07926484  2.01371127]\n",
      " [-0.44870277  0.13381249]\n",
      " [-1.91250139 -0.17708979]\n",
      " [ 0.16427949  0.3398706 ]\n",
      " [ 0.50746497 -0.80664603]\n",
      " [-0.69978817 -1.71273322]\n",
      " [-0.56152109 -0.53981946]\n",
      " [ 1.17922697  2.04461268]\n",
      " [-0.60375113  0.50660279]\n",
      " [-0.84606902  1.03809008]\n",
      " [-0.80728418 -0.6488739 ]\n",
      " [ 0.18055447 -1.55739593]\n",
      " [-0.67874551  1.48296845]\n",
      " [-0.46655065 -1.08056961]\n",
      " [-0.92212765  0.28466   ]\n",
      " [-0.09547868  0.86526887]\n",
      " [ 1.31158854  0.52009693]\n",
      " [ 1.02521964 -0.45037104]\n",
      " [ 1.1836307  -0.71699307]\n",
      " [-0.10722827 -0.59496445]\n",
      " [-0.18434478 -1.34734004]\n",
      " [ 0.57620097  2.76060345]\n",
      " [ 0.66540481  0.06859329]\n",
      " [-1.06749224 -1.74042334]\n",
      " [ 0.17629645 -0.13433913]\n",
      " [ 0.10395443 -2.67021045]\n",
      " [-0.37014171  1.59076585]\n",
      " [-0.29598783  0.74509982]\n",
      " [ 0.38027348  1.60066974]\n",
      " [-0.28302434 -0.21560027]\n",
      " [-0.81436298  1.40277502]\n",
      " [-0.75038607  0.79361366]\n",
      " [-0.2589865  -0.40826044]\n",
      " [-1.19007449  0.37148984]\n",
      " [ 0.81855185  0.03631932]\n",
      " [ 0.72648066 -1.14012921]\n",
      " [ 0.04218221 -0.7291967 ]\n",
      " [ 0.91753761 -0.13932955]\n",
      " [ 0.84504415 -1.35425919]\n",
      " [-0.83151588 -0.40682383]\n",
      " [-2.44545405  0.37204785]\n",
      " [-1.38133909 -1.92794537]\n",
      " [-1.05022992  0.29716408]\n",
      " [-0.19006848 -0.70551288]\n",
      " [ 0.92020938  0.43928452]\n",
      " [-2.46495461  1.47904271]\n",
      " [ 0.57020014 -0.66697131]\n",
      " [-1.45720596  1.03621333]\n",
      " [-0.76084629  1.35999202]\n",
      " [ 0.27932219 -0.62491333]\n",
      " [-1.18775422 -0.56019073]\n",
      " [ 0.62093217 -1.47025886]\n",
      " [ 1.0783909   2.21253016]\n",
      " [ 0.62578285 -0.43237681]\n",
      " [-2.37315146 -0.39660111]\n",
      " [-1.24032406 -0.25696228]\n",
      " [-1.73265211  1.3381394 ]\n",
      " [-0.17154672 -0.9508405 ]\n",
      " [-0.75093778 -1.65107112]\n",
      " [-1.23170629  0.93582494]\n",
      " [ 1.48857326  0.97800353]\n",
      " [ 0.39009482  1.17230011]\n",
      " [-0.70848327  0.18165043]\n",
      " [ 0.15258537 -1.4092468 ]\n",
      " [-0.41670783  0.05887513]\n",
      " [-0.55427054  0.0835109 ]\n",
      " [ 0.13134945 -0.181603  ]\n",
      " [-1.92246254 -2.06169186]\n",
      " [ 0.0444117   0.47123381]\n",
      " [ 1.49338661 -0.99133505]\n",
      " [ 1.12018282 -0.62724951]\n",
      " [-0.01313411  1.18582207]\n",
      " [-0.32255648  0.45573727]\n",
      " [-0.09054079  0.40887229]\n",
      " [-0.4889212  -0.40371583]\n",
      " [-1.15957872  0.07504777]\n",
      " [-0.41719888  0.10186204]\n",
      " [ 1.42790547  0.17874633]\n",
      " [-2.72410376 -0.73339073]\n",
      " [-2.20945662 -0.05626224]\n",
      " [ 0.05199793  1.27387141]\n",
      " [-0.30397671 -0.76821499]\n",
      " [-1.2695199   1.39309358]\n",
      " [ 0.12264033 -1.18582135]\n",
      " [ 0.31138185 -0.70971283]\n",
      " [ 0.19731105  0.19194458]\n",
      " [ 2.66008433  0.76691033]\n",
      " [-0.06366948 -0.68498686]\n",
      " [ 0.22616345 -0.19290482]\n",
      " [-1.5996814   0.84345984]\n",
      " [ 1.2828355  -0.40119685]\n",
      " [-0.56774007 -0.23161927]\n",
      " [ 0.92048017  1.71599357]\n",
      " [-0.99777867 -2.11288031]\n",
      " [ 0.49525031 -1.82598842]\n",
      " [-1.0020016  -0.18716909]\n",
      " [ 0.73231301 -1.26577001]\n",
      " [-0.56318069 -0.4681576 ]\n",
      " [ 1.58126156 -1.55939142]\n",
      " [-0.22830982  0.24976437]\n",
      " [ 0.26226842  0.26842107]\n",
      " [-0.88259799 -2.15084019]\n",
      " [ 0.89273452  0.97578908]\n",
      " [ 1.64792281 -1.37758232]\n",
      " [ 0.3923087  -1.12073595]\n",
      " [ 0.77290898 -0.28084728]\n",
      " [ 0.52424447  0.85793045]\n",
      " [-1.26316205 -1.30148264]\n",
      " [-0.77826632  1.64374574]\n",
      " [-0.5654239   0.5911891 ]\n",
      " [-1.23210326  1.17798164]\n",
      " [-0.71511538 -1.03916187]\n",
      " [ 0.41396342  0.70798177]\n",
      " [ 0.01508529 -0.07159981]\n",
      " [ 0.29645702 -0.38840901]\n",
      " [-0.83420067  1.08170877]\n",
      " [-0.26441571 -0.01754864]\n",
      " [-0.24867518 -1.91169056]\n",
      " [-0.0055991  -0.03829046]\n",
      " [ 1.03253989 -0.02642459]\n",
      " [ 1.45403393  0.13543775]\n",
      " [ 0.3968643   0.33477918]\n",
      " [ 0.30737229  0.06758591]\n",
      " [ 0.50058764  0.36144877]\n",
      " [-0.51777097  2.22548782]\n",
      " [-0.33172845  1.00380425]\n",
      " [ 1.2767835  -0.18031629]\n",
      " [ 0.00656485 -0.00836287]\n",
      " [-1.80658286  1.60334845]\n",
      " [ 1.41073911 -1.37543291]\n",
      " [-2.37760381 -0.90947847]\n",
      " [ 1.47342193 -0.74045224]\n",
      " [-0.42452426  0.7498808 ]\n",
      " [-2.23683015  0.11129757]\n",
      " [-0.31483999 -1.91419633]\n",
      " [ 1.57220648 -0.47463949]\n",
      " [-0.62514235  2.06403823]\n",
      " [-0.7599081  -0.93089499]\n",
      " [-0.48346356  0.94678871]\n",
      " [-1.2278386   1.88359768]\n",
      " [-0.75014504 -0.68008857]\n",
      " [-0.33793992 -0.6275769 ]\n",
      " [ 0.72724715  0.08601263]\n",
      " [-1.2121825  -2.67294918]\n",
      " [-1.87231642 -2.74389221]\n",
      " [ 1.27667831 -0.21287155]\n",
      " [-0.14895665 -0.67905528]\n",
      " [-2.0459684   0.32780664]\n",
      " [ 0.91240901  0.92531678]\n",
      " [-2.04145337  0.26811843]\n",
      " [ 0.22668058 -0.02101536]\n",
      " [ 0.32585837 -1.66467756]\n",
      " [-0.94073882  0.96018692]\n",
      " [ 0.25820368  0.71484731]\n",
      " [-0.49570403 -0.75130751]\n",
      " [-1.0837751  -0.92517987]\n",
      " [-0.61438329  1.30981476]] [-0.14812664 -0.08665363]\n"
     ]
    }
   ],
   "source": [
    "# Criando um array randomico de 2 elementos coordenados, depois fazer dua media\n",
    "# criando um grafico no fim\n",
    "array_aux3 = np.random.randn(250,2)\n",
    "media_array = array_aux3.mean(0)\n",
    "print(array_aux3, media_array)"
   ]
  },
  {
   "cell_type": "code",
   "execution_count": 36,
   "metadata": {},
   "outputs": [
    {
     "data": {
      "image/png": "[encoded data removed]",
      "text/plain": [
       "<Figure size 432x288 with 1 Axes>"
      ]
     },
     "metadata": {
      "needs_background": "light"
     },
     "output_type": "display_data"
    }
   ],
   "source": [
    "plt.plot(array_aux3[:,0], array_aux3[:,1], \"o\", markersize = 5, alpha = 0.60)\n",
    "plt.plot(media_array[0], media_array[1], \"ro\", markersize = 10)\n",
    "plt.show()"
   ]
  },
  {
   "cell_type": "code",
   "execution_count": null,
   "metadata": {},
   "outputs": [],
   "source": []
  }
 ],
 "metadata": {
  "kernelspec": {
   "display_name": "Python 3",
   "language": "python",
   "name": "python3"
  },
  "language_info": {
   "codemirror_mode": {
    "name": "ipython",
    "version": 3
   },
   "file_extension": ".py",
   "mimetype": "text/x-python",
   "name": "python",
   "nbconvert_exporter": "python",
   "pygments_lexer": "ipython3",
   "version": "3.7.7"
  }
 },
 "nbformat": 4,
 "nbformat_minor": 4
}
