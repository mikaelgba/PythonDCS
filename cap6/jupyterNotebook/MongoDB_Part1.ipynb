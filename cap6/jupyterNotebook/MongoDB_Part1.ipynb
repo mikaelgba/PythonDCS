{
 "cells": [
  {
   "cell_type": "code",
   "execution_count": null,
   "metadata": {},
   "outputs": [],
   "source": [
    "from pymongo import MongoClient\n",
    "import datetime"
   ]
  },
  {
   "cell_type": "code",
   "execution_count": null,
   "metadata": {},
   "outputs": [],
   "source": [
    "#Abrindo conexao com o mongodb via a porta 27017\n",
    "conexao = MongoClient(\"localhost\", 27017)"
   ]
  },
  {
   "cell_type": "code",
   "execution_count": null,
   "metadata": {},
   "outputs": [],
   "source": [
    "#Instanciando o banco criando um banco chamado jogosdb\n",
    "db = conexao.jogosdb\n",
    "#colecoes é o mesm oque tabelas nos bancos relacionais\n",
    "cole = db.jogosdb"
   ]
  },
  {
   "cell_type": "code",
   "execution_count": null,
   "metadata": {},
   "outputs": [],
   "source": [
    "#um banco Mongodb só é criado depois do primero insert\n",
    "dicio_jogos = {\"Id\": \"123\",\"name_game\": \"God of War\",\"year\":\"2018\",\"date_register\": datetime.datetime.utcnow()}\n",
    "cole = db.ports\n",
    "post_id = cole.insert_one(dicio_jogos)"
   ]
  },
  {
   "cell_type": "code",
   "execution_count": null,
   "metadata": {},
   "outputs": [],
   "source": [
    "dicio_jogos2 = {\"Id\": \"124\",\"name_game\": \"Devil My Cry 5\",\"year\":\"2019\",\"date_register\": datetime.datetime.utcnow()}\n",
    "cole = db.ports\n",
    "post_id = cole.insert_one(dicio_jogos2)"
   ]
  },
  {
   "cell_type": "code",
   "execution_count": null,
   "metadata": {},
   "outputs": [],
   "source": [
    "#Retornando os dados inseridos\n",
    "for post in cole.find():\n",
    "    print(post)"
   ]
  },
  {
   "cell_type": "code",
   "execution_count": null,
   "metadata": {},
   "outputs": [],
   "source": [
    "print(db.name)"
   ]
  },
  {
   "cell_type": "code",
   "execution_count": null,
   "metadata": {},
   "outputs": [],
   "source": [
    "print(db.collection_names())"
   ]
  }
 ],
 "metadata": {
  "kernelspec": {
   "display_name": "Python 3",
   "language": "python",
   "name": "python3"
  },
  "language_info": {
   "codemirror_mode": {
    "name": "ipython",
    "version": 3
   },
   "file_extension": ".py",
   "mimetype": "text/x-python",
   "name": "python",
   "nbconvert_exporter": "python",
   "pygments_lexer": "ipython3",
   "version": "3.7.2"
  }
 },
 "nbformat": 4,
 "nbformat_minor": 2
}
