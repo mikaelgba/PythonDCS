{
 "cells": [
  {
   "cell_type": "code",
   "execution_count": 1,
   "metadata": {},
   "outputs": [],
   "source": [
    "import os\n",
    "os.remove(\"filme.db\") if os.path.exists(\"filmes.db\") else None"
   ]
  },
  {
   "cell_type": "code",
   "execution_count": 2,
   "metadata": {},
   "outputs": [],
   "source": [
    "import sqlite3\n",
    "conex = sqlite3.connect(\"filmes.bd\")\n",
    "cur2 = conex.cursor()"
   ]
  },
  {
   "cell_type": "code",
   "execution_count": 3,
   "metadata": {},
   "outputs": [],
   "source": [
    "def create_tabela():\n",
    "    cur2.execute('CREATE TABLE IF NOT EXISTS filmes(id INTEGER PRIMARY KEY AUTOINCREMENT NOT NULL, nome TEXT, diretor TEXT, estudio TEXT)')"
   ]
  },
  {
   "cell_type": "code",
   "execution_count": 4,
   "metadata": {},
   "outputs": [],
   "source": [
    "def insert_datebase():\n",
    "    cur2.execute(\"INSERT INTO filmes VALUES (1, 'Bond 25', 'Cary Fukunaga', 'Eon Productions, Metro-Goldwyn-Mayer')\")\n",
    "    conex.commit()\n",
    "    cur2.close()\n",
    "    conex.close()"
   ]
  },
  {
   "cell_type": "code",
   "execution_count": 5,
   "metadata": {},
   "outputs": [],
   "source": [
    "create_tabela()\n",
    "insert_database()"
   ]
  },
  {
   "cell_type": "code",
   "execution_count": null,
   "metadata": {},
   "outputs": [],
   "source": []
  }
 ],
 "metadata": {
  "kernelspec": {
   "display_name": "Python 3",
   "language": "python",
   "name": "python3"
  },
  "language_info": {
   "codemirror_mode": {
    "name": "ipython",
    "version": 3
   },
   "file_extension": ".py",
   "mimetype": "text/x-python",
   "name": "python",
   "nbconvert_exporter": "python",
   "pygments_lexer": "ipython3",
   "version": "3.7.2"
  }
 },
 "nbformat": 4,
 "nbformat_minor": 2
}
