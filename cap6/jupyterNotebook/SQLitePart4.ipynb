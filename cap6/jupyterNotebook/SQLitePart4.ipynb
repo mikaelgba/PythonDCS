{
 "cells": [
  {
   "cell_type": "code",
   "execution_count": null,
   "metadata": {},
   "outputs": [],
   "source": [
    "import sqlite3\n",
    "\n",
    "conexao = sqlite3.connect(\"filmes.bd\")\n",
    "curs = conexao.cursor()"
   ]
  },
  {
   "cell_type": "code",
   "execution_count": null,
   "metadata": {},
   "outputs": [],
   "source": [
    "#Atualizar um indice espeficico,\n",
    "def alterar_indice_banco():\n",
    "    \n",
    "    curs.execute(\"UPDATE filmes SET estudio = 'Platinum Dunes' WHERE nome = 'A Quiet Place: Part II'\")\n",
    "    conexao.commit()\n",
    "\n",
    "alterar_indice_banco()"
   ]
  },
  {
   "cell_type": "code",
   "execution_count": null,
   "metadata": {},
   "outputs": [],
   "source": [
    "#Deletar via id\n",
    "def deletar_filme( ):\n",
    "    \n",
    "    curs.execute(\"DELETE FROM filmes WHERE nome = 'A Quiet Place: Part II'\")\n",
    "    conexao.commit()\n",
    "    \n",
    "deletar_filme()"
   ]
  },
  {
   "cell_type": "code",
   "execution_count": null,
   "metadata": {},
   "outputs": [],
   "source": []
  }
 ],
 "metadata": {
  "kernelspec": {
   "display_name": "Python 3",
   "language": "python",
   "name": "python3"
  },
  "language_info": {
   "codemirror_mode": {
    "name": "ipython",
    "version": 3
   },
   "file_extension": ".py",
   "mimetype": "text/x-python",
   "name": "python",
   "nbconvert_exporter": "python",
   "pygments_lexer": "ipython3",
   "version": "3.7.2"
  }
 },
 "nbformat": 4,
 "nbformat_minor": 2
}
