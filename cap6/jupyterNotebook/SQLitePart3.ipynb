{
 "cells": [
  {
   "cell_type": "code",
   "execution_count": null,
   "metadata": {},
   "outputs": [],
   "source": [
    "import sqlite3\n",
    "conexao = sqlite3.connect(\"filmes.bd\")\n",
    "cursorC = conexao.cursor()"
   ]
  },
  {
   "cell_type": "code",
   "execution_count": null,
   "metadata": {},
   "outputs": [],
   "source": [
    "#Listando todo o banco\n",
    "def selet_datebase():\n",
    "    \n",
    "    select_tabela = 'select * from filmes'\n",
    "    cursorC.execute(select_tabela)\n",
    "    dados_retorno = cursorC.fetchall()\n",
    "    \n",
    "    for i in dados_retorno:\n",
    "        print(i)\n",
    "        \n",
    "selet_datebase()"
   ]
  },
  {
   "cell_type": "code",
   "execution_count": null,
   "metadata": {},
   "outputs": [],
   "source": [
    "#Listando linha(as) especificas\n",
    "def selet_datebase2_linhas():\n",
    "    \n",
    "    select_tabela = 'select * from filmes where id > 2'\n",
    "    cursorC.execute(select_tabela)\n",
    "    dados_retorno = cursorC.fetchall()\n",
    "    \n",
    "    for i in dados_retorno:\n",
    "        print(i)\n",
    "        \n",
    "selet_datebase2_linhas()"
   ]
  },
  {
   "cell_type": "code",
   "execution_count": null,
   "metadata": {},
   "outputs": [],
   "source": [
    "#Listando Coluna(as) especificas\n",
    "def selet_datebase3_colunas():\n",
    "    \n",
    "    select_tabela = 'select * from filmes'\n",
    "    cursorC.execute(select_tabela)\n",
    "    dados_retorno = cursorC.fetchall()\n",
    "    \n",
    "    for i in dados_retorno:\n",
    "        print(i[1])\n",
    "        \n",
    "selet_datebase3_colunas()"
   ]
  },
  {
   "cell_type": "code",
   "execution_count": null,
   "metadata": {},
   "outputs": [],
   "source": [
    "cursorC.close()\n",
    "conexao.close()"
   ]
  },
  {
   "cell_type": "code",
   "execution_count": null,
   "metadata": {},
   "outputs": [],
   "source": []
  }
 ],
 "metadata": {
  "kernelspec": {
   "display_name": "Python 3",
   "language": "python",
   "name": "python3"
  },
  "language_info": {
   "codemirror_mode": {
    "name": "ipython",
    "version": 3
   },
   "file_extension": ".py",
   "mimetype": "text/x-python",
   "name": "python",
   "nbconvert_exporter": "python",
   "pygments_lexer": "ipython3",
   "version": "3.7.2"
  }
 },
 "nbformat": 4,
 "nbformat_minor": 2
}
