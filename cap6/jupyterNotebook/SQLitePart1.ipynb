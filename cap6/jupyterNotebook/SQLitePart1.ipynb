{
 "cells": [
  {
   "cell_type": "code",
   "execution_count": null,
   "metadata": {},
   "outputs": [],
   "source": [
    "import os"
   ]
  },
  {
   "cell_type": "code",
   "execution_count": null,
   "metadata": {},
   "outputs": [],
   "source": [
    "import sqlite3\n",
    "conex = sqlite3.connect('hqs.db')\n",
    "type(conex)"
   ]
  },
  {
   "cell_type": "code",
   "execution_count": null,
   "metadata": {},
   "outputs": [],
   "source": [
    "cur = conex.cursor()\n",
    "type(cur)"
   ]
  },
  {
   "cell_type": "code",
   "execution_count": null,
   "metadata": {},
   "outputs": [],
   "source": [
    "#Criando a instrucao sql\n",
    "create_tabela = 'create table hqs'\\\n",
    "'(id integer primary key, '\\\n",
    "'titulo varchar(100),' \\\n",
    "'editora varchar(140))'"
   ]
  },
  {
   "cell_type": "code",
   "execution_count": null,
   "metadata": {},
   "outputs": [],
   "source": [
    "#Executando a instrucao no cursor\n",
    "cur.execute(create_tabela)"
   ]
  },
  {
   "cell_type": "code",
   "execution_count": null,
   "metadata": {},
   "outputs": [],
   "source": [
    "#instrucao para inserir \n",
    "insert_tabela = 'insert into hqs values (?,?,?)'\n",
    "\n",
    "entrada = [(1,\"Superman: The Man of Tomorrow\",\"DC\"),(2,\"Thor: Raknarok\",\"Marvel\"),(3,\"Green Lantern: Blackest Night\",\"DC\")]\n",
    "#inserindo\n",
    "for i in entrada:\n",
    "    cur.execute(insert_tabela, i)"
   ]
  },
  {
   "cell_type": "code",
   "execution_count": null,
   "metadata": {},
   "outputs": [],
   "source": [
    "#GRAVANDO\n",
    "conex.commit()"
   ]
  },
  {
   "cell_type": "code",
   "execution_count": null,
   "metadata": {},
   "outputs": [],
   "source": [
    "#criando instrucao pata recuperar/ler os dados do banco\n",
    "select_tabela = 'select * from hqs'\n",
    "cur.execute(select_tabela)\n",
    "dados_retorno = cur.fetchall()\n"
   ]
  },
  {
   "cell_type": "code",
   "execution_count": null,
   "metadata": {},
   "outputs": [],
   "source": [
    "#mostar os dados recuperados\n",
    "for i in dados_retorno:\n",
    "    print(i)"
   ]
  },
  {
   "cell_type": "code",
   "execution_count": null,
   "metadata": {},
   "outputs": [],
   "source": [
    "#ou\n",
    "for i in dados_retorno:\n",
    "    print(\"ID: %d - HQ: %s - Empresa: %s \" %i)"
   ]
  },
  {
   "cell_type": "code",
   "execution_count": null,
   "metadata": {},
   "outputs": [],
   "source": [
    "conex.close()\n",
    "cur.close()"
   ]
  },
  {
   "cell_type": "code",
   "execution_count": null,
   "metadata": {},
   "outputs": [],
   "source": []
  }
 ],
 "metadata": {
  "kernelspec": {
   "display_name": "Python 3",
   "language": "python",
   "name": "python3"
  },
  "language_info": {
   "codemirror_mode": {
    "name": "ipython",
    "version": 3
   },
   "file_extension": ".py",
   "mimetype": "text/x-python",
   "name": "python",
   "nbconvert_exporter": "python",
   "pygments_lexer": "ipython3",
   "version": "3.7.2"
  }
 },
 "nbformat": 4,
 "nbformat_minor": 2
}
