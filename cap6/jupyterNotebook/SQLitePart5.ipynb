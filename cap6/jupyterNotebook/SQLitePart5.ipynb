{
 "cells": [
  {
   "cell_type": "code",
   "execution_count": null,
   "metadata": {},
   "outputs": [],
   "source": [
    "import sqlite3\n",
    "import random\n",
    "import matplotlib.pyplot as plt\n",
    "%matplotlib notebook"
   ]
  },
  {
   "cell_type": "code",
   "execution_count": null,
   "metadata": {},
   "outputs": [],
   "source": [
    "conexao = sqlite3.connect(\"id_random.db\")\n",
    "cur = conexao.cursor()"
   ]
  },
  {
   "cell_type": "code",
   "execution_count": null,
   "metadata": {},
   "outputs": [],
   "source": [
    "\n",
    "def create_tabela():\n",
    "    \n",
    "    criar_sql = (\"CREATE TABLE IF NOT EXISTS id_random(id INTEGER PRIMARY KEY AUTOINCREMENT NOT NULL, valor REAL)\")\n",
    "    cur.execute(criar_sql)\n",
    "    \n",
    "def insert_tabela(lista_entrada):\n",
    "    \n",
    "    '''inserir_sql = (\"INSERT INTO id_random VALUES(?,?)\")\n",
    "    for i in lista_entrada:\n",
    "        cur.execute(inserir_sql, i)\n",
    "    conexao.commit()'''\n",
    "    inserir_sql = \"INSERT INTO id_random VALUES(?,?)\"\n",
    "    for i in lista_entrada:\n",
    "        cur.execute(inserir_sql,i)\n",
    "    \n",
    "def select_tabela():\n",
    "    \n",
    "    select_sql = \"select * from id_random\"\n",
    "    cur.execute(select_sql)\n",
    "    retorno = cur.fetchall()\n",
    "    for i in retorno:\n",
    "        print(i)\n",
    "    conexao.commit()\n",
    "    "
   ]
  },
  {
   "cell_type": "code",
   "execution_count": null,
   "metadata": {},
   "outputs": [],
   "source": [
    "create_tabela()\n",
    "lista_random = []\n",
    "for i in range(20):\n",
    "    a = random.uniform(1039, 15000)\n",
    "    lista_random.append([i + 1,a])\n",
    "print(lista_random)\n",
    "insert_tabela(lista_random)\n",
    "select_tabela()"
   ]
  },
  {
   "cell_type": "code",
   "execution_count": null,
   "metadata": {},
   "outputs": [],
   "source": []
  }
 ],
 "metadata": {
  "kernelspec": {
   "display_name": "Python 3",
   "language": "python",
   "name": "python3"
  },
  "language_info": {
   "codemirror_mode": {
    "name": "ipython",
    "version": 3
   },
   "file_extension": ".py",
   "mimetype": "text/x-python",
   "name": "python",
   "nbconvert_exporter": "python",
   "pygments_lexer": "ipython3",
   "version": "3.7.2"
  }
 },
 "nbformat": 4,
 "nbformat_minor": 2
}
