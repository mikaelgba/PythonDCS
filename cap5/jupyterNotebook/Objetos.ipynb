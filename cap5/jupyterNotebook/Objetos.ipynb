{
 "cells": [
  {
   "cell_type": "code",
   "execution_count": null,
   "metadata": {},
   "outputs": [],
   "source": [
    "lista = [\"A\",\"B\",\"C\", 1, 2]"
   ]
  },
  {
   "cell_type": "code",
   "execution_count": null,
   "metadata": {},
   "outputs": [],
   "source": [
    "class Carro():\n",
    "    \n",
    "    def __init__( self, nome, modelo, chasi ):\n",
    "        self.nome = nome\n",
    "        self.modelo = modelo\n",
    "        self.chasi = chasi\n",
    "        \n",
    "    def definicao( self ):\n",
    "        return self.nome, self.modelo,self.chasi     "
   ]
  },
  {
   "cell_type": "code",
   "execution_count": null,
   "metadata": {},
   "outputs": [],
   "source": [
    "\n",
    "carros = []\n",
    "letr = \"ABCDEF\"\n",
    "\n",
    "for i in range(len(letr)):\n",
    "    \n",
    "    a = Carro(letr[i], letr[i], i)\n",
    "    carros.append(a)\n",
    "    \n",
    "for j in range(len(carros)):\n",
    "    print(carros[j].definicao())"
   ]
  },
  {
   "cell_type": "code",
   "execution_count": null,
   "metadata": {},
   "outputs": [],
   "source": [
    "class Funcionario():\n",
    "    \n",
    "    def __init__( self, nome, cargo, salario ):\n",
    "        self.nome = nome\n",
    "        self.cargo = cargo\n",
    "        self.salario = salario\n",
    "        \n",
    "    def descricao_func( self ):\n",
    "        return print(\"Funncioario: %s \\nCargo: %s \\nSalario: %f\" %(self.nome, self.cargo, self.salario))"
   ]
  },
  {
   "cell_type": "code",
   "execution_count": null,
   "metadata": {},
   "outputs": [],
   "source": [
    "funcio1 = Funcionario(\"Eu\", \"Dono\", 10000)\n",
    "funcio1.descricao_func()"
   ]
  },
  {
   "cell_type": "code",
   "execution_count": null,
   "metadata": {},
   "outputs": [],
   "source": [
    "# hasattr() verifica se há um atributo\n",
    "hasattr(funcio1,\"nome\")"
   ]
  },
  {
   "cell_type": "code",
   "execution_count": null,
   "metadata": {},
   "outputs": [],
   "source": [
    "# setattr() altera o atributo\n",
    "setattr(funcio1, \"salario\", 10500)"
   ]
  },
  {
   "cell_type": "code",
   "execution_count": null,
   "metadata": {},
   "outputs": [],
   "source": [
    "# getattr() obtem o atributo\n",
    "getattr(funcio1, \"salario\")"
   ]
  },
  {
   "cell_type": "code",
   "execution_count": null,
   "metadata": {},
   "outputs": [],
   "source": [
    "# delattr() deleta o atributo\n",
    "delattr(funcio1, \"salario\")"
   ]
  }
 ],
 "metadata": {
  "kernelspec": {
   "display_name": "Python 3",
   "language": "python",
   "name": "python3"
  },
  "language_info": {
   "codemirror_mode": {
    "name": "ipython",
    "version": 3
   },
   "file_extension": ".py",
   "mimetype": "text/x-python",
   "name": "python",
   "nbconvert_exporter": "python",
   "pygments_lexer": "ipython3",
   "version": "3.7.2"
  }
 },
 "nbformat": 4,
 "nbformat_minor": 2
}
