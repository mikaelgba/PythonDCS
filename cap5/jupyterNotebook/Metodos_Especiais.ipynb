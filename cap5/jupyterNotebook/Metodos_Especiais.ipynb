{
 "cells": [
  {
   "cell_type": "code",
   "execution_count": null,
   "metadata": {},
   "outputs": [],
   "source": [
    "#Classe Livro\n",
    "#Metodos especiais são metodos dentro da classe do objeto que permitem trabalhar o objeto com diversas funções Buiit-in\n",
    "class Livro ():\n",
    "    \n",
    "    def __init__( self, nome, autor, paginas ):\n",
    "        \n",
    "        self.nome = nome\n",
    "        self.autor = autor\n",
    "        self.paginas = paginas\n",
    "        \n",
    "    #Metodo que faz o mesmo serviço que print(livr)\n",
    "    def __str__( self ):\n",
    "        return \"Nome: %s - Autor: %s - Paginas: %d\" %(self.nome, self.autor, self.paginas)"
   ]
  },
  {
   "cell_type": "code",
   "execution_count": null,
   "metadata": {},
   "outputs": [],
   "source": [
    "livr = Livro(\"O Senhor do Anéis, O retorno do rei\", \"J. R. R. Tolkien\", 380)\n",
    "str(livr)"
   ]
  },
  {
   "cell_type": "code",
   "execution_count": null,
   "metadata": {},
   "outputs": [],
   "source": [
    "print(livr)"
   ]
  },
  {
   "cell_type": "code",
   "execution_count": null,
   "metadata": {},
   "outputs": [],
   "source": [
    "del livr.paginas"
   ]
  },
  {
   "cell_type": "code",
   "execution_count": null,
   "metadata": {},
   "outputs": [],
   "source": [
    "hasattr(livr, \"paginas\")"
   ]
  },
  {
   "cell_type": "code",
   "execution_count": null,
   "metadata": {},
   "outputs": [],
   "source": []
  }
 ],
 "metadata": {
  "kernelspec": {
   "display_name": "Python 3",
   "language": "python",
   "name": "python3"
  },
  "language_info": {
   "codemirror_mode": {
    "name": "ipython",
    "version": 3
   },
   "file_extension": ".py",
   "mimetype": "text/x-python",
   "name": "python",
   "nbconvert_exporter": "python",
   "pygments_lexer": "ipython3",
   "version": "3.7.2"
  }
 },
 "nbformat": 4,
 "nbformat_minor": 2
}
