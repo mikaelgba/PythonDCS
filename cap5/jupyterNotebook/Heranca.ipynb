{
 "cells": [
  {
   "cell_type": "code",
   "execution_count": null,
   "metadata": {},
   "outputs": [],
   "source": [
    "#Super-classe Animal\n",
    "class Animal ():\n",
    "    \n",
    "    def __init__( self ):\n",
    "        print(\"Novo animal\")\n",
    "    \n",
    "    def ident ( self ):\n",
    "        print(\"Animal\")\n",
    "        \n",
    "    def comer( self ):\n",
    "        print(\"comendo\")\n",
    "\n",
    "#Sub-classe Mamimefero da Super-classe Animal\n",
    "class Mamifero( Animal ):\n",
    "    \n",
    "    def __init__( self ):\n",
    "        print(\"Novo mamifero\")\n",
    "        \n",
    "    def ident ( self ):\n",
    "        print(\"Mamifero\")\n",
    "\n",
    "#Sub-classe Cachorro da Sub-classe Mamimefero da Super-classe Animal\n",
    "class Cachorro( Mamifero ):\n",
    "    \n",
    "    def __init__( self ):\n",
    "        print(\"Novo cachorro\")\n",
    "        \n",
    "    def ident ( self ):\n",
    "        print(\"Cachorro\")        "
   ]
  },
  {
   "cell_type": "code",
   "execution_count": null,
   "metadata": {},
   "outputs": [],
   "source": [
    "anim = Animal()\n",
    "anim.comer()\n",
    "anim.ident()"
   ]
  },
  {
   "cell_type": "code",
   "execution_count": null,
   "metadata": {},
   "outputs": [],
   "source": [
    "mami = Mamifero()\n",
    "mami.comer()\n",
    "mami.ident()"
   ]
  },
  {
   "cell_type": "code",
   "execution_count": null,
   "metadata": {},
   "outputs": [],
   "source": [
    "cao = Cachorro()\n",
    "cao.comer()\n",
    "cao.ident()"
   ]
  },
  {
   "cell_type": "code",
   "execution_count": null,
   "metadata": {},
   "outputs": [],
   "source": []
  }
 ],
 "metadata": {
  "kernelspec": {
   "display_name": "Python 3",
   "language": "python",
   "name": "python3"
  },
  "language_info": {
   "codemirror_mode": {
    "name": "ipython",
    "version": 3
   },
   "file_extension": ".py",
   "mimetype": "text/x-python",
   "name": "python",
   "nbconvert_exporter": "python",
   "pygments_lexer": "ipython3",
   "version": "3.7.2"
  }
 },
 "nbformat": 4,
 "nbformat_minor": 2
}
