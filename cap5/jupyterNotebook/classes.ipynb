{
 "cells": [
  {
   "cell_type": "code",
   "execution_count": null,
   "metadata": {},
   "outputs": [],
   "source": [
    "# Classe livro\n",
    "class Livro():\n",
    "    \n",
    "    #__init__ é o metodo construtor da classe, ele que inicializa cada objeto estanciado pela classe Livro\n",
    "    def __init__( self ):\n",
    "        \n",
    "        #self indica que o abritubdo pertence ao objeto Livro\n",
    "        self.nome = \"Narnia\"\n",
    "        self.isbn = 123456\n",
    "        print(\"Class criada\")\n",
    "      \n",
    "    # Métodos são funções que ganham parâmetros para os atributos do objeto\n",
    "    def definicao( self ):\n",
    "        print(\"livro %s com isbn %d\" %(self.nome, self.isbn))"
   ]
  },
  {
   "cell_type": "code",
   "execution_count": null,
   "metadata": {},
   "outputs": [],
   "source": [
    "livro = Livro()"
   ]
  },
  {
   "cell_type": "code",
   "execution_count": null,
   "metadata": {},
   "outputs": [],
   "source": [
    "type(livro)"
   ]
  },
  {
   "cell_type": "code",
   "execution_count": null,
   "metadata": {},
   "outputs": [],
   "source": [
    "livro.definicao()\n",
    "livro.nome"
   ]
  },
  {
   "cell_type": "code",
   "execution_count": null,
   "metadata": {},
   "outputs": [],
   "source": [
    "# Classe livro com parâmetros de entrada\n",
    "class Livro2():\n",
    "    \n",
    "    #__init__ é o metodo construtor da classe, ele que inicializa cada objeto estanciado pela classe Livro\n",
    "    def __init__( self, nome, isbn ):\n",
    "        \n",
    "        #self indica que o abritubdo pertence ao objeto Livro\n",
    "        self.nome = \"Narnia\"\n",
    "        self.isbn = 123456\n",
    "        #print(\"Class criada\")\n",
    "      \n",
    "    # Métodos são funções que ganham parâmetros para os atributos do objeto\n",
    "    def definicao( self ):\n",
    "        print(\"livro %s com isbn %d\" %(self.nome, self.isbn))\n"
   ]
  },
  {
   "cell_type": "code",
   "execution_count": null,
   "metadata": {},
   "outputs": [],
   "source": [
    "livro2 = Livro2(\"Senhor dos anéis\", 1234567)"
   ]
  },
  {
   "cell_type": "code",
   "execution_count": null,
   "metadata": {},
   "outputs": [],
   "source": [
    "livro2.definicao()"
   ]
  },
  {
   "cell_type": "code",
   "execution_count": null,
   "metadata": {},
   "outputs": [],
   "source": [
    "class Cachorro():\n",
    "    \n",
    "    def __init__( self, raca, tamanho, idade ):\n",
    "        \n",
    "        self.raca = raca\n",
    "        self.tamanho = tamanho\n",
    "        self.idade = idade\n",
    "        \n",
    "    #%s - String / %d inteiro / %f - flutuante\n",
    "    def definicao( self ):\n",
    "        print(\"Raça %s de tamanho %d com idade %d\" %(self.raca, self.tamanho, self.idade))"
   ]
  },
  {
   "cell_type": "code",
   "execution_count": null,
   "metadata": {},
   "outputs": [],
   "source": [
    "cao = Cachorro(\"Cão Brasileiro caramelo\", 120, 5)"
   ]
  },
  {
   "cell_type": "code",
   "execution_count": null,
   "metadata": {},
   "outputs": [],
   "source": [
    "cao.definicao()\n",
    "cao.raca"
   ]
  }
 ],
 "metadata": {
  "kernelspec": {
   "display_name": "Python 3",
   "language": "python",
   "name": "python3"
  },
  "language_info": {
   "codemirror_mode": {
    "name": "ipython",
    "version": 3
   },
   "file_extension": ".py",
   "mimetype": "text/x-python",
   "name": "python",
   "nbconvert_exporter": "python",
   "pygments_lexer": "ipython3",
   "version": "3.7.2"
  }
 },
 "nbformat": 4,
 "nbformat_minor": 2
}
