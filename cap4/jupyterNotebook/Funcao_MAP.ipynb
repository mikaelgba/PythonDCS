{
 "cells": [
  {
   "cell_type": "code",
   "execution_count": null,
   "metadata": {},
   "outputs": [],
   "source": [
    "def tem_celcius(temperatura): return ((float(9)/5) * (temperatura + 32))\n",
    "\n",
    "def tem_fahrenheit(temperatura): return ((float(9)/5) * (temperatura - 32))\n",
    "\n",
    "temps = [50,70,120,29,35]\n",
    "\n",
    "print(temps)"
   ]
  },
  {
   "cell_type": "code",
   "execution_count": null,
   "metadata": {},
   "outputs": [],
   "source": [
    "map(tem_celcius,temps)"
   ]
  },
  {
   "cell_type": "code",
   "execution_count": null,
   "metadata": {},
   "outputs": [],
   "source": [
    "map(tem_fahrenheit,temps)"
   ]
  },
  {
   "cell_type": "code",
   "execution_count": null,
   "metadata": {},
   "outputs": [],
   "source": [
    "list(map(tem_celcius,temps))"
   ]
  },
  {
   "cell_type": "code",
   "execution_count": null,
   "metadata": {},
   "outputs": [],
   "source": [
    "list(map(tem_fahrenheit,temps))"
   ]
  },
  {
   "cell_type": "code",
   "execution_count": null,
   "metadata": {},
   "outputs": [],
   "source": [
    "#Usando o Lambda dentro da map()\n",
    "map(lambda entrada: ((9.0)/5) * (entrada + 32), temps)\n",
    "list(map(lambda entrada: ((9.0)/5) * (entrada + 32), temps))"
   ]
  },
  {
   "cell_type": "code",
   "execution_count": null,
   "metadata": {},
   "outputs": [],
   "source": [
    "#Usando o Lambda dentro da map() com multiplas listas\n",
    "list1 = [1,4,7,10]\n",
    "list2 = [2,5,8,11]\n",
    "list3 = [3,6,9,12]\n",
    "map(lambda a,b,c: a + b + c, list1,list2,list3)\n",
    "list(map(lambda a,b,c: a + b + c, list1,list2,list3))"
   ]
  }
 ],
 "metadata": {
  "kernelspec": {
   "display_name": "Python 3",
   "language": "python",
   "name": "python3"
  },
  "language_info": {
   "codemirror_mode": {
    "name": "ipython",
    "version": 3
   },
   "file_extension": ".py",
   "mimetype": "text/x-python",
   "name": "python",
   "nbconvert_exporter": "python",
   "pygments_lexer": "ipython3",
   "version": "3.7.2"
  }
 },
 "nbformat": 4,
 "nbformat_minor": 2
}
