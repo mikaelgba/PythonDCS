{
 "cells": [
  {
   "cell_type": "code",
   "execution_count": null,
   "metadata": {},
   "outputs": [],
   "source": [
    "#Dando o nome do Arquivo\n",
    "nome_Arqui = input(\"Nome: \")\n",
    "nome_Arqui +=\".txt\"\n",
    "print(nome_Arqui)"
   ]
  },
  {
   "cell_type": "code",
   "execution_count": null,
   "metadata": {},
   "outputs": [],
   "source": [
    "#Criando um arquivo e depois lendo ele\n",
    "arqui = open(nome_Arqui,\"w\")\n",
    "arqui.write(\"Criando um Arquivo\")\n",
    "arqui.close()\n",
    "arqui = open(nome_Arqui,\"r\")\n",
    "print(arqui.read())\n",
    "arqui.close()"
   ]
  },
  {
   "cell_type": "code",
   "execution_count": null,
   "metadata": {},
   "outputs": [],
   "source": [
    "#Lendo o arquivo e fazendo por divisão de linha\n",
    "arq = open(\"../arquivosUsados1/salarios.csv\",\"r\")\n",
    "a = arq.read()\n",
    "linha = a.split(\"\\n\")\n",
    "print(linha)"
   ]
  },
  {
   "cell_type": "code",
   "execution_count": null,
   "metadata": {},
   "outputs": [],
   "source": [
    "#Lendo o arquivo e fazendo por divisão de linha\n",
    "arq = open(\"../arquivosUsados1/salarios.csv\",\"r\")\n",
    "a = arq.read()\n",
    "linhas = a.split(\"\\n\")\n",
    "lista_linhas = []\n",
    "for linha in linhas:\n",
    "    linha_unica = linha.split(\",\")\n",
    "    lista_linhas.append(linha_unica)\n",
    "for i in range(len(lista_linhas)):\n",
    "    print(lista_linhas[i])\n",
    "        #print(lista_linhas[i])"
   ]
  },
  {
   "cell_type": "code",
   "execution_count": null,
   "metadata": {},
   "outputs": [],
   "source": [
    "#Contando as linhas do arquivo\n",
    "contador = 0\n",
    "for i in lista_linhas:\n",
    "    contador += 1\n",
    "print(contador)"
   ]
  },
  {
   "cell_type": "code",
   "execution_count": null,
   "metadata": {},
   "outputs": [],
   "source": [
    "#Contando as colunas do arquivo\n",
    "contador2 = 0\n",
    "colunas = lista_linhas = [0]\n",
    "for linha in colunas:\n",
    "    contador =+ 1\n",
    "print(contador2)\n",
    "arq.close()"
   ]
  },
  {
   "cell_type": "code",
   "execution_count": null,
   "metadata": {},
   "outputs": [],
   "source": [
    "%%writefile ../arquivosUsados1/test_arquivo.txt\n",
    "Criando aquivo\n",
    "para testar\n",
    "o arquivo"
   ]
  },
  {
   "cell_type": "code",
   "execution_count": null,
   "metadata": {},
   "outputs": [],
   "source": [
    "arq2 = open(\"../arquivosUsados1/test_arquivo.txt\",\"r\")\n",
    "arq2.read()\n",
    "print(arq2.read())\n",
    "#seek() server para voltar ao inicio do arquivo\n",
    "arq2.seek(0)"
   ]
  },
  {
   "cell_type": "code",
   "execution_count": null,
   "metadata": {},
   "outputs": [],
   "source": [
    "#Ler como arquivo dividindo as linhas por indices\n",
    "arq2.seek(0)\n",
    "print(arq2.readlines())"
   ]
  },
  {
   "cell_type": "code",
   "execution_count": null,
   "metadata": {},
   "outputs": [],
   "source": [
    "#Ler com o Loop For para ler\n",
    "for i in open(\"../arquivosUsados1/test_arquivo.txt\"):\n",
    "    print(i)\n",
    "arq2.close()"
   ]
  },
  {
   "cell_type": "code",
   "execution_count": null,
   "metadata": {},
   "outputs": [],
   "source": [
    "#Pacote pandas, Importando e lendo Datasets com pandas\n",
    "import pandas as pd\n",
    "nome_arquivo = \"../arquivosUsados1/binary.csv\"\n",
    "df = pd.read_csv(nome_arquivo)\n",
    "df.head()"
   ]
  },
  {
   "cell_type": "code",
   "execution_count": null,
   "metadata": {},
   "outputs": [],
   "source": [
    "#Lndo o arquivo salarios.csv com pandas\n",
    "nome_arquivo2 = \"../arquivosUsados1/salarios.csv\"\n",
    "df = pd.read_csv(nome_arquivo2)\n",
    "df.head()"
   ]
  }
 ],
 "metadata": {
  "kernelspec": {
   "display_name": "Python 3",
   "language": "python",
   "name": "python3"
  },
  "language_info": {
   "codemirror_mode": {
    "name": "ipython",
    "version": 3
   },
   "file_extension": ".py",
   "mimetype": "text/x-python",
   "name": "python",
   "nbconvert_exporter": "python",
   "pygments_lexer": "ipython3",
   "version": "3.7.2"
  }
 },
 "nbformat": 4,
 "nbformat_minor": 2
}
