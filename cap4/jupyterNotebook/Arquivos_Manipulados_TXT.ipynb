{
 "cells": [
  {
   "cell_type": "code",
   "execution_count": null,
   "metadata": {},
   "outputs": [],
   "source": [
    "text = \"kono sekai wo uragitte \\nhara no naka de ugometteiru \\n\"\n",
    "text += \"harawata kuiyabutte \\nakaguroku minagitteiru\"\n",
    "print(text.upper())"
   ]
  },
  {
   "cell_type": "code",
   "execution_count": null,
   "metadata": {},
   "outputs": [],
   "source": [
    "#Criando um arquivo\n",
    "import os\n",
    "arquivo = open(os.path.join(\"../arquivosUsados1/cientista.txt\"),\"w\")"
   ]
  },
  {
   "cell_type": "code",
   "execution_count": null,
   "metadata": {},
   "outputs": [],
   "source": [
    "#Gravando no Arquivo separando a string via split() e fechando o arquivo com close()\n",
    "for i in text.split():\n",
    "    arquivo.write( i  + \" \")\n",
    "arquivo.close()"
   ]
  },
  {
   "cell_type": "code",
   "execution_count": null,
   "metadata": {},
   "outputs": [],
   "source": [
    "#Lendo o arquivo recem gravado\n",
    "arquivo = open(\"../arquivosUsados1/cientista.txt\",\"r\")\n",
    "arqu = arquivo.read()\n",
    "print(arqu.upper())"
   ]
  },
  {
   "cell_type": "code",
   "execution_count": null,
   "metadata": {},
   "outputs": [],
   "source": [
    "#Usando a expressão With - ele já realizada o close() automaticamente\n",
    "with open(\"../arquivosUsados1/cientista.txt\",\"r\") as arquivo:\n",
    "    saida = arquivo.read()\n",
    "print(len(saida))\n",
    "print(saida)"
   ]
  },
  {
   "cell_type": "code",
   "execution_count": null,
   "metadata": {},
   "outputs": [],
   "source": [
    "#Lendo um arquivo entre diferentes partes\n",
    "with open(\"../arquivosUsados1/cientista.txt\",\"w\") as arquivo:\n",
    "    arquivo.write(text[:22])\n",
    "    arquivo.write(\"\\n\" + \"\\n\")\n",
    "    arquivo.write(text[:51])\n",
    "    arquivo.write(\"\\n\" + \"\\n\")\n",
    "    arquivo.write(text[:72])\n",
    "    arquivo.write(\"\\n\" + \"\\n\")\n",
    "    arquivo.write(text[:96])\n",
    "\n",
    "with open(\"../arquivosUsados1/cientista.txt\",\"r\") as arquivo:\n",
    "    saida = arquivo.read()\n",
    "print(saida)"
   ]
  }
 ],
 "metadata": {
  "kernelspec": {
   "display_name": "Python 3",
   "language": "python",
   "name": "python3"
  },
  "language_info": {
   "codemirror_mode": {
    "name": "ipython",
    "version": 3
   },
   "file_extension": ".py",
   "mimetype": "text/x-python",
   "name": "python",
   "nbconvert_exporter": "python",
   "pygments_lexer": "ipython3",
   "version": "3.7.2"
  }
 },
 "nbformat": 4,
 "nbformat_minor": 2
}
