{
 "cells": [
  {
   "cell_type": "code",
   "execution_count": null,
   "metadata": {},
   "outputs": [],
   "source": [
    "#importando o modulo csv - \"excel\"\n",
    "import csv\n",
    "\n",
    "#Escrevendo o arquivo csv\n",
    "with open('../arquivosUsados1/numeros.csv','w') as arquivo:\n",
    "    escrita = csv.writer(arquivo)\n",
    "    escrita.writerow([\"a\",\"b\",\"c\"])\n",
    "    escrita.writerow([10,20,30])\n",
    "    escrita.writerow([40,50,60])"
   ]
  },
  {
   "cell_type": "code",
   "execution_count": null,
   "metadata": {},
   "outputs": [],
   "source": [
    "#Lendo o arquivo csv\n",
    "with open('../arquivosUsados1/numeros.csv','r') as arquivo:\n",
    "    leitura = csv.reader(arquivo)\n",
    "    for i in leitura:\n",
    "        if(i != []):\n",
    "            print(len(i))\n",
    "            print(i)"
   ]
  },
  {
   "cell_type": "code",
   "execution_count": null,
   "metadata": {},
   "outputs": [],
   "source": [
    "with open(\"../arquivosUsados1/numeros.csv\",\"r\") as arquivo:\n",
    "    leitura = csv.reader(arquivo)\n",
    "    saida = list(leitura)\n",
    "print(saida)"
   ]
  },
  {
   "cell_type": "code",
   "execution_count": null,
   "metadata": {},
   "outputs": [],
   "source": [
    "for i in saida[1:]:\n",
    "    print(i)"
   ]
  }
 ],
 "metadata": {
  "kernelspec": {
   "display_name": "Python 3",
   "language": "python",
   "name": "python3"
  },
  "language_info": {
   "codemirror_mode": {
    "name": "ipython",
    "version": 3
   },
   "file_extension": ".py",
   "mimetype": "text/x-python",
   "name": "python",
   "nbconvert_exporter": "python",
   "pygments_lexer": "ipython3",
   "version": "3.7.2"
  }
 },
 "nbformat": 4,
 "nbformat_minor": 2
}
