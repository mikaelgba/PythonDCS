{
 "cells": [
  {
   "cell_type": "code",
   "execution_count": null,
   "metadata": {},
   "outputs": [],
   "source": [
    "#Abrindo elendo um o primeiro aquivo\n",
    "arquivo = open(\"arquivosUsados1/arquivo1.txt\",\"r\")\n",
    "print(arquivo.read())"
   ]
  },
  {
   "cell_type": "code",
   "execution_count": null,
   "metadata": {},
   "outputs": [],
   "source": [
    "arquivo = open(\"arquivosUsados1/arquivo1.txt\",\"r\")\n",
    "print(arquivo.read(10))"
   ]
  },
  {
   "cell_type": "code",
   "execution_count": null,
   "metadata": {},
   "outputs": [],
   "source": [
    "#Conta a quantidade de caracteres tem no arquivo aberto\n",
    "print(arquivo.tell())\n"
   ]
  },
  {
   "cell_type": "code",
   "execution_count": null,
   "metadata": {},
   "outputs": [],
   "source": [
    "#Começa a leitura apartir de um uma ponto desejado como entrada\n",
    "print(arquivo.seek(0,0))\n",
    "arquivo.close()"
   ]
  },
  {
   "cell_type": "code",
   "execution_count": null,
   "metadata": {},
   "outputs": [],
   "source": [
    "#Escrita no arquivo aberto - \"w\" sobreescreve o arquivo\n",
    "arquivo = open(\"arquivosUsados1/arquivo1.txt\",\"w\")\n",
    "arquivo.write(\"- My chemical Romance\")\n",
    "arquivo.close()\n",
    "arquivo = open(\"arquivosUsados1/arquivo1.txt\",\"r\")\n",
    "print(arquivo.read())\n",
    "arquivo.close()"
   ]
  },
  {
   "cell_type": "code",
   "execution_count": null,
   "metadata": {},
   "outputs": [],
   "source": [
    "#Escrita no arquivo aberto - \"a\" adiciona no arquivo sem sobrecrever\n",
    "arquivo2 = open(\"arquivosUsados1/arquivo2.txt\",\"a\")\n",
    "arquivo2.write(\"- Voltando\")\n",
    "arquivo2.close()\n",
    "arquivo2 = open(\"arquivosUsados1/arquivo2.txt\",\"r\")\n",
    "print(arquivo2.read())\n",
    "arquivo2.close()"
   ]
  },
  {
   "cell_type": "code",
   "execution_count": null,
   "metadata": {},
   "outputs": [],
   "source": []
  }
 ],
 "metadata": {
  "kernelspec": {
   "display_name": "Python 3",
   "language": "python",
   "name": "python3"
  },
  "language_info": {
   "codemirror_mode": {
    "name": "ipython",
    "version": 3
   },
   "file_extension": ".py",
   "mimetype": "text/x-python",
   "name": "python",
   "nbconvert_exporter": "python",
   "pygments_lexer": "ipython3",
   "version": "3.7.2"
  }
 },
 "nbformat": 4,
 "nbformat_minor": 2
}
