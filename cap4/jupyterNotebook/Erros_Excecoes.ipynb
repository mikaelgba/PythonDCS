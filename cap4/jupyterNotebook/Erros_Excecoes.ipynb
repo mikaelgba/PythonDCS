{
 "cells": [
  {
   "cell_type": "code",
   "execution_count": null,
   "metadata": {},
   "outputs": [],
   "source": [
    "#Forçando um erro\n",
    "try:\n",
    "    8 + \"8\"\n",
    "          \n",
    "except TypeError:\n",
    "    print(\"Erro occorrido\")\n",
    "        "
   ]
  },
  {
   "cell_type": "code",
   "execution_count": null,
   "metadata": {},
   "outputs": [],
   "source": [
    "#Testando a estrutura com a gravação de um arquivo .txt\n",
    "try:\n",
    "    arquivo = open(\"../arquivosUsados1/testandoerros.txt\",\"w\")\n",
    "    arquivo.write(\"Gravando\")\n",
    "except IOError:\n",
    "    print(\"Erro\")\n",
    "else:\n",
    "    print(\"Arquivo Gravado\")\n",
    "finally:\n",
    "    print(\"Fim da execução\")\n",
    "    arquivo.close()\n",
    "    \n",
    "    "
   ]
  },
  {
   "cell_type": "code",
   "execution_count": null,
   "metadata": {},
   "outputs": [],
   "source": [
    "# Testando a leitura sem erro\n",
    "try:\n",
    "    arquivo2 = open(\"../arquivosUsados1/testandoerros.txt\",\"r\")\n",
    "    leitura = arquivo2.read()\n",
    "    print(leitura)\n",
    "except IOError:\n",
    "    print(\"Erro\")\n",
    "else:\n",
    "    print(\"Arquivo Gravado\")\n",
    "finally:\n",
    "    print(\"Fim da execução\")\n",
    "    arquivo.close()"
   ]
  },
  {
   "cell_type": "code",
   "execution_count": null,
   "metadata": {},
   "outputs": [],
   "source": [
    "# Testando a leitura sem erro, buscando para leitura um arquivo que não existe\n",
    "try:\n",
    "    arquivo3 = open(\"../arquivosUsados1/testandoerros1.txt\",\"r\")\n",
    "    leitura = arquivo3.read()\n",
    "    print(arquivo3)\n",
    "except IOError:\n",
    "    print(\"Erro\")\n",
    "else:\n",
    "    print(\"Arquivo Gravado\")\n",
    "finally:\n",
    "    print(\"Fim da execução\")\n",
    "    arquivo.close()"
   ]
  },
  {
   "cell_type": "code",
   "execution_count": null,
   "metadata": {},
   "outputs": [],
   "source": [
    "# Testando com uma função\n",
    "def converter_int( ):\n",
    "\n",
    "    try:\n",
    "        valor_entrada = int(input(\"Digite um numero: \"))\n",
    "    except:\n",
    "        print(\"Não foi digitado um numero ou não foi digidado nada\")\n",
    "    else:\n",
    "        print(\"Numero valido: \", valor_entrada )\n",
    "\n",
    "converter_int()"
   ]
  },
  {
   "cell_type": "code",
   "execution_count": null,
   "metadata": {},
   "outputs": [],
   "source": [
    "# Testando com uma função com loop interno que só finaliza quando digitado um numero\n",
    "def converter_int2( ):\n",
    "    \n",
    "    '''Forma 1\n",
    "    sair = True\n",
    "    while (sair):\n",
    "        \n",
    "        try:\n",
    "            valor_entrada = int(input(\"Digite um numero: \"))\n",
    "        except:\n",
    "            print(\"Não foi digitado um numero ou não foi digidado nada\")\n",
    "        else:\n",
    "            print(\"Numero valido:\", valor_entrada )\n",
    "            sair = False'''\n",
    "    \n",
    "    '''Forma 2'''\n",
    "    while True:\n",
    "        \n",
    "        try:\n",
    "            valor_entrada = int(input(\"Digite um numero: \"))\n",
    "        except:\n",
    "            print(\"Não foi digitado um numero ou não foi digidado nada\")\n",
    "            continue\n",
    "        else:\n",
    "            print(\"Numero valido:\", valor_entrada )\n",
    "            break\n",
    "            \n",
    "converter_int2()"
   ]
  },
  {
   "cell_type": "code",
   "execution_count": null,
   "metadata": {},
   "outputs": [],
   "source": [
    "#Testando forçando um erro: adicionando um elemento na tupla. como não impossivel, então lança uma execeção\n",
    "tupla = (1,2,3,4,5,6)\n",
    "try:\n",
    "    tupla.append(7)\n",
    "    for i in tupla:\n",
    "        print(i)\n",
    "except AttributeError as e:\n",
    "    print(\"Erro:\",e)\n",
    "except IOError as e:\n",
    "    print(\"Erro:\",e)\n",
    "    "
   ]
  }
 ],
 "metadata": {
  "kernelspec": {
   "display_name": "Python 3",
   "language": "python",
   "name": "python3"
  },
  "language_info": {
   "codemirror_mode": {
    "name": "ipython",
    "version": 3
   },
   "file_extension": ".py",
   "mimetype": "text/x-python",
   "name": "python",
   "nbconvert_exporter": "python",
   "pygments_lexer": "ipython3",
   "version": "3.7.2"
  }
 },
 "nbformat": 4,
 "nbformat_minor": 2
}
