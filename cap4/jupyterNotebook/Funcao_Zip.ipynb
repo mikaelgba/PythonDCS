{
 "cells": [
  {
   "cell_type": "code",
   "execution_count": null,
   "metadata": {},
   "outputs": [],
   "source": [
    "#Criando 2 listas para aplicarno zip()\n",
    "a = [1,2,3]\n",
    "b = [4,5,6]\n",
    "zip(a,b)\n",
    "print(list(zip(a,b)))"
   ]
  },
  {
   "cell_type": "code",
   "execution_count": null,
   "metadata": {},
   "outputs": [],
   "source": [
    "#Zip() retorna com o tamanho da lista com menor numero de elementos \n",
    "c = list(zip(\"abcd\",\"ab\"))\n",
    "print(c)"
   ]
  },
  {
   "cell_type": "code",
   "execution_count": null,
   "metadata": {},
   "outputs": [],
   "source": [
    "# 2 Dcionarios para os testes\n",
    "d = {\"jedi\": [\"Obi Wan\",\"Yoda\",\"Luck\"], \"sith\": [\"Lord maul\",\"Dark Vader\",\"Darth Sidious\"]}\n",
    "e = {1: \"Personagens a: \", 2:\"Personagens b: \"}\n",
    "#Retorna apenas as chaves\n",
    "f = list(zip(e,d))\n",
    "print(f)"
   ]
  },
  {
   "cell_type": "code",
   "execution_count": null,
   "metadata": {},
   "outputs": [],
   "source": [
    "#Retorna apenas as chaves\n",
    "g = list(zip(e.values(),d.values()))\n",
    "print(g)"
   ]
  },
  {
   "cell_type": "code",
   "execution_count": null,
   "metadata": {},
   "outputs": [],
   "source": [
    "#fazendo a troca do valores de D para as chevas de E\n",
    "h = list(zip(e.values(),d))\n",
    "print(h)"
   ]
  },
  {
   "cell_type": "code",
   "execution_count": null,
   "metadata": {},
   "outputs": [],
   "source": [
    "#Retornando as chaves e valores de D e E\n",
    "i = list(zip(e.items(),d.items()))\n",
    "print(i)"
   ]
  }
 ],
 "metadata": {
  "kernelspec": {
   "display_name": "Python 3",
   "language": "python",
   "name": "python3"
  },
  "language_info": {
   "codemirror_mode": {
    "name": "ipython",
    "version": 3
   },
   "file_extension": ".py",
   "mimetype": "text/x-python",
   "name": "python",
   "nbconvert_exporter": "python",
   "pygments_lexer": "ipython3",
   "version": "3.7.2"
  }
 },
 "nbformat": 4,
 "nbformat_minor": 2
}
