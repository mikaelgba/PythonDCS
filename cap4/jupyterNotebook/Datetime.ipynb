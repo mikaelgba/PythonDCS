{
 "cells": [
  {
   "cell_type": "code",
   "execution_count": null,
   "metadata": {},
   "outputs": [],
   "source": [
    "#Importando o pacote DataTime, aplicações de data e hora\n",
    "import datetime"
   ]
  },
  {
   "cell_type": "code",
   "execution_count": null,
   "metadata": {},
   "outputs": [],
   "source": [
    "# datetime.datetime.now() retorna a data e o horario atual\n",
    "hora_agora = datetime.datetime.now()\n",
    "print(hora_agora)"
   ]
  },
  {
   "cell_type": "code",
   "execution_count": null,
   "metadata": {},
   "outputs": [],
   "source": [
    "# datetime.time() cria um horario\n",
    "hora_agora2 = datetime.time(5,7,8,1562)\n",
    "print(\"Hora(s): \", hora_agora2.hour)\n",
    "print(\"Minuto(s): \", hora_agora2.minute)\n",
    "print(\"Segundo(s): \", hora_agora2.second)\n",
    "print(\"Mini segundo(s): \", hora_agora2.microsecond)"
   ]
  },
  {
   "cell_type": "code",
   "execution_count": null,
   "metadata": {},
   "outputs": [],
   "source": [
    "print(datetime.time.min)"
   ]
  },
  {
   "cell_type": "code",
   "execution_count": null,
   "metadata": {},
   "outputs": [],
   "source": [
    "# datetime.date.today() retorna a data atual\n",
    "hoje = datetime.date.today()\n",
    "print(hoje)\n",
    "print(\"Hora(s): \", hoje.ctime())\n",
    "print(\"Minuto(s): \", hoje.year)\n",
    "print(\"Segundo(s): \", hoje.month)\n",
    "print(\"Mini segundo(s): \", hoje.day)"
   ]
  },
  {
   "cell_type": "code",
   "execution_count": null,
   "metadata": {},
   "outputs": [],
   "source": [
    "#Criando uma data com o datetime.date()\n",
    "data1 = datetime.date(2019,12,31)\n",
    "print(\"Dia: \", data1)"
   ]
  },
  {
   "cell_type": "code",
   "execution_count": null,
   "metadata": {},
   "outputs": [],
   "source": [
    "#Alterando a data com replace(year='x'), replace(month='x'), replace(day='x')\n",
    "data2 = data1.replace(year=2020)\n",
    "print(data2)"
   ]
  },
  {
   "cell_type": "code",
   "execution_count": null,
   "metadata": {},
   "outputs": [],
   "source": [
    "print(data2 - data1)"
   ]
  }
 ],
 "metadata": {
  "kernelspec": {
   "display_name": "Python 3",
   "language": "python",
   "name": "python3"
  },
  "language_info": {
   "codemirror_mode": {
    "name": "ipython",
    "version": 3
   },
   "file_extension": ".py",
   "mimetype": "text/x-python",
   "name": "python",
   "nbconvert_exporter": "python",
   "pygments_lexer": "ipython3",
   "version": "3.7.2"
  }
 },
 "nbformat": 4,
 "nbformat_minor": 2
}
