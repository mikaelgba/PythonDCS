{
 "cells": [
  {
   "cell_type": "code",
   "execution_count": null,
   "metadata": {},
   "outputs": [],
   "source": [
    "#Criando um dicionario\n",
    "dicio = {\"Nome\": \"Yoda\", \"Serie\": \"The Madalorian\", \"Filme\": [\"Star Wars 1\",\"Star Wars 2\",\"Star Wars 3\"]}\n",
    "for i,j in dicio.items():\n",
    "    print(i,j)"
   ]
  },
  {
   "cell_type": "code",
   "execution_count": null,
   "metadata": {},
   "outputs": [],
   "source": [
    "#Importando o JSON \n",
    "import json \n",
    "print(json.dumps(dicio))"
   ]
  },
  {
   "cell_type": "code",
   "execution_count": null,
   "metadata": {},
   "outputs": [],
   "source": [
    "#Criando um arquivo do tipo json\n",
    "with open(\"../arquivosUsados1/dados.json\",\"w\") as arquivo:\n",
    "    arquivo.write(json.dumps(dicio))\n",
    "\n",
    "#Lendo o arquivo json recém riado   \n",
    "with open(\"../arquivosUsados1/dados.json\",\"r\") as arquivo:\n",
    "    arqui_json = arquivo.read()\n",
    "    saida = json.loads(arqui_json)\n",
    "    print(saida)\n",
    "print(saida[\"Nome\"])"
   ]
  },
  {
   "cell_type": "code",
   "execution_count": null,
   "metadata": {},
   "outputs": [],
   "source": [
    "#Lendo um arquivo json na web\n",
    "from urllib.request import urlopen\n",
    "    \n",
    "arquivo_web = urlopen(\"http://vimeo.com/api/v2/video/57733101.json\").read().decode('utf8')\n",
    "saida2 = json.loads(arquivo_web)[0]\n",
    "print('Título: ', saida2[\"title\"])\n",
    "print('URL: ', saida2[\"url\"])"
   ]
  },
  {
   "cell_type": "code",
   "execution_count": null,
   "metadata": {},
   "outputs": [],
   "source": [
    "#Copiando um arquivo para outro\n",
    "origem = \"../arquivosUsados1/dados.json\"\n",
    "destino = \"../arquivosUsados1/json_dados.txt\""
   ]
  },
  {
   "cell_type": "code",
   "execution_count": null,
   "metadata": {},
   "outputs": [],
   "source": [
    "#Opção 1:\n",
    "with open(origem,\"r\") as arquivo1:\n",
    "    text = arquivo1.read()\n",
    "    with open(destino,\"w\") as arquivo2:\n",
    "        arquivo2.write(text)"
   ]
  },
  {
   "cell_type": "code",
   "execution_count": null,
   "metadata": {},
   "outputs": [],
   "source": [
    "#Opção 2:\n",
    "open(destino,\"w\").write(open(origem,\"r\").read())"
   ]
  },
  {
   "cell_type": "code",
   "execution_count": null,
   "metadata": {},
   "outputs": [],
   "source": [
    "with open(\"../arquivosUsados1/json_dados.txt\",\"r\") as lido_json:\n",
    "    text3 = lido_json.read()\n",
    "    imp = json.loads(text3)\n",
    "print(imp)"
   ]
  },
  {
   "cell_type": "code",
   "execution_count": null,
   "metadata": {},
   "outputs": [],
   "source": []
  },
  {
   "cell_type": "code",
   "execution_count": null,
   "metadata": {},
   "outputs": [],
   "source": []
  }
 ],
 "metadata": {
  "kernelspec": {
   "display_name": "Python 3",
   "language": "python",
   "name": "python3"
  },
  "language_info": {
   "codemirror_mode": {
    "name": "ipython",
    "version": 3
   },
   "file_extension": ".py",
   "mimetype": "text/x-python",
   "name": "python",
   "nbconvert_exporter": "python",
   "pygments_lexer": "ipython3",
   "version": "3.7.2"
  }
 },
 "nbformat": 4,
 "nbformat_minor": 2
}
