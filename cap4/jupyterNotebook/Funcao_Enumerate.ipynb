{
 "cells": [
  {
   "cell_type": "code",
   "execution_count": null,
   "metadata": {},
   "outputs": [],
   "source": [
    "#  Enumerate retorna uma lista de elementos e seus indices\n",
    "a = [1,2,3,4,5,6,7,8,9,10]\n",
    "enumerate(a)\n",
    "print(list(enumerate(a)))"
   ]
  },
  {
   "cell_type": "code",
   "execution_count": null,
   "metadata": {},
   "outputs": [],
   "source": [
    "#Retorna os elementos e seus indices\n",
    "for indice,valor in enumerate(a):\n",
    "    print(indice,valor)"
   ]
  },
  {
   "cell_type": "code",
   "execution_count": null,
   "metadata": {},
   "outputs": [],
   "source": [
    "#Retorna os elementos e seus indices até um indice expecifico\n",
    "for indice,valor in enumerate(a):\n",
    "    if( indice > 3):\n",
    "        break\n",
    "    else:\n",
    "        print(indice,valor)"
   ]
  },
  {
   "cell_type": "code",
   "execution_count": null,
   "metadata": {},
   "outputs": [],
   "source": [
    "#Retorna os indices e elementos de uma lista\n",
    "lista = [\"Obi Wan\",\"Yoda\",\"Luck\"]\n",
    "for x,y in enumerate(lista):\n",
    "    print(x,y)"
   ]
  },
  {
   "cell_type": "code",
   "execution_count": null,
   "metadata": {},
   "outputs": [],
   "source": [
    "#Retorna os indices e elementos de uma String\n",
    "for x,y in enumerate(\"Castlevania\"):\n",
    "    print(x,y)"
   ]
  },
  {
   "cell_type": "code",
   "execution_count": null,
   "metadata": {},
   "outputs": [],
   "source": [
    "#Retorna os indices e os indices de range()\n",
    "for x,y in enumerate(range(11)):\n",
    "    print(x,y)"
   ]
  }
 ],
 "metadata": {
  "kernelspec": {
   "display_name": "Python 3",
   "language": "python",
   "name": "python3"
  },
  "language_info": {
   "codemirror_mode": {
    "name": "ipython",
    "version": 3
   },
   "file_extension": ".py",
   "mimetype": "text/x-python",
   "name": "python",
   "nbconvert_exporter": "python",
   "pygments_lexer": "ipython3",
   "version": "3.7.2"
  }
 },
 "nbformat": 4,
 "nbformat_minor": 2
}
